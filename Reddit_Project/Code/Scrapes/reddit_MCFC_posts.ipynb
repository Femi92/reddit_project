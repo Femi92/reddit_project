{
 "cells": [
  {
   "cell_type": "code",
   "execution_count": 1,
   "metadata": {},
   "outputs": [],
   "source": [
    "import requests\n",
    "import time\n",
    "import pandas as pd"
   ]
  },
  {
   "cell_type": "code",
   "execution_count": 2,
   "metadata": {},
   "outputs": [],
   "source": [
    "url = 'https://www.reddit.com/r/MCFC/top/.json?sort=top&t=all'"
   ]
  },
  {
   "cell_type": "code",
   "execution_count": 3,
   "metadata": {},
   "outputs": [],
   "source": [
    "headers = {'User-agent': 'Folafemi'}"
   ]
  },
  {
   "cell_type": "code",
   "execution_count": 4,
   "metadata": {},
   "outputs": [],
   "source": [
    "res = requests.get(url, headers=headers)"
   ]
  },
  {
   "cell_type": "code",
   "execution_count": 5,
   "metadata": {},
   "outputs": [
    {
     "data": {
      "text/plain": [
       "200"
      ]
     },
     "execution_count": 5,
     "metadata": {},
     "output_type": "execute_result"
    }
   ],
   "source": [
    "res.status_code"
   ]
  },
  {
   "cell_type": "code",
   "execution_count": 6,
   "metadata": {},
   "outputs": [],
   "source": [
    "the_json = res.json()"
   ]
  },
  {
   "cell_type": "code",
   "execution_count": 7,
   "metadata": {},
   "outputs": [
    {
     "data": {
      "text/plain": [
       "dict_keys(['kind', 'data'])"
      ]
     },
     "execution_count": 7,
     "metadata": {},
     "output_type": "execute_result"
    }
   ],
   "source": [
    "the_json.keys()"
   ]
  },
  {
   "cell_type": "code",
   "execution_count": 8,
   "metadata": {},
   "outputs": [
    {
     "data": {
      "text/plain": [
       "['data', 'kind']"
      ]
     },
     "execution_count": 8,
     "metadata": {},
     "output_type": "execute_result"
    }
   ],
   "source": [
    "sorted(the_json.keys())"
   ]
  },
  {
   "cell_type": "code",
   "execution_count": 13,
   "metadata": {},
   "outputs": [],
   "source": [
    "trial = pd.DataFrame(res.json()['data'])"
   ]
  },
  {
   "cell_type": "code",
   "execution_count": 15,
   "metadata": {},
   "outputs": [
    {
     "data": {
      "text/plain": [
       "(25, 5)"
      ]
     },
     "execution_count": 15,
     "metadata": {},
     "output_type": "execute_result"
    }
   ],
   "source": [
    "trial.shape"
   ]
  },
  {
   "cell_type": "code",
   "execution_count": 9,
   "metadata": {
    "collapsed": true
   },
   "outputs": [
    {
     "data": {
      "text/plain": [
       "{'kind': 't3',\n",
       " 'data': {'approved_at_utc': None,\n",
       "  'subreddit': 'MCFC',\n",
       "  'selftext': '',\n",
       "  'author_fullname': 't2_co44t',\n",
       "  'saved': False,\n",
       "  'mod_reason_title': None,\n",
       "  'gilded': 0,\n",
       "  'clicked': False,\n",
       "  'title': \"A few weeks ago, I posted my Dad's package that city sent, which included the Fernandinho signed shirt. Yesterday, the cancer took him from us. He was the biggest blue you'd ever meet.\",\n",
       "  'link_flair_richtext': [],\n",
       "  'subreddit_name_prefixed': 'r/MCFC',\n",
       "  'hidden': False,\n",
       "  'pwls': 6,\n",
       "  'link_flair_css_class': None,\n",
       "  'downs': 0,\n",
       "  'thumbnail_height': 105,\n",
       "  'hide_score': False,\n",
       "  'name': 't3_7k5oy6',\n",
       "  'quarantine': False,\n",
       "  'link_flair_text_color': 'dark',\n",
       "  'author_flair_background_color': None,\n",
       "  'subreddit_type': 'public',\n",
       "  'ups': 2850,\n",
       "  'total_awards_received': 0,\n",
       "  'media_embed': {},\n",
       "  'thumbnail_width': 140,\n",
       "  'author_flair_template_id': None,\n",
       "  'is_original_content': False,\n",
       "  'user_reports': [],\n",
       "  'secure_media': None,\n",
       "  'is_reddit_media_domain': True,\n",
       "  'is_meta': False,\n",
       "  'category': None,\n",
       "  'secure_media_embed': {},\n",
       "  'link_flair_text': None,\n",
       "  'can_mod_post': False,\n",
       "  'score': 2850,\n",
       "  'approved_by': None,\n",
       "  'thumbnail': 'https://b.thumbs.redditmedia.com/W6fw0BItvDwHb0tQbD5g9OssA3sFb6K0Azmdn42b3_Y.jpg',\n",
       "  'edited': False,\n",
       "  'author_flair_css_class': None,\n",
       "  'author_flair_richtext': [],\n",
       "  'gildings': {},\n",
       "  'post_hint': 'image',\n",
       "  'content_categories': None,\n",
       "  'is_self': False,\n",
       "  'mod_note': None,\n",
       "  'created': 1513436506.0,\n",
       "  'link_flair_type': 'text',\n",
       "  'wls': 6,\n",
       "  'banned_by': None,\n",
       "  'author_flair_type': 'text',\n",
       "  'domain': 'i.redd.it',\n",
       "  'allow_live_comments': True,\n",
       "  'selftext_html': None,\n",
       "  'likes': None,\n",
       "  'suggested_sort': None,\n",
       "  'banned_at_utc': None,\n",
       "  'view_count': None,\n",
       "  'archived': True,\n",
       "  'no_follow': False,\n",
       "  'is_crosspostable': False,\n",
       "  'pinned': False,\n",
       "  'over_18': False,\n",
       "  'preview': {'images': [{'source': {'url': 'https://preview.redd.it/hup9assag8401.jpg?auto=webp&amp;s=09ec62c320007b3525fc2d145ace336bc47c3827',\n",
       "      'width': 1600,\n",
       "      'height': 1200},\n",
       "     'resolutions': [{'url': 'https://preview.redd.it/hup9assag8401.jpg?width=108&amp;crop=smart&amp;auto=webp&amp;s=c3bb6e0ca7e8d93c412c55a9de97ea51d57aed4e',\n",
       "       'width': 108,\n",
       "       'height': 81},\n",
       "      {'url': 'https://preview.redd.it/hup9assag8401.jpg?width=216&amp;crop=smart&amp;auto=webp&amp;s=46d24baff64456f639794d316c298f6cb4dfe8ff',\n",
       "       'width': 216,\n",
       "       'height': 162},\n",
       "      {'url': 'https://preview.redd.it/hup9assag8401.jpg?width=320&amp;crop=smart&amp;auto=webp&amp;s=a7cd0df4c0b9c7fb93fda244f0038d4c6d13d129',\n",
       "       'width': 320,\n",
       "       'height': 240},\n",
       "      {'url': 'https://preview.redd.it/hup9assag8401.jpg?width=640&amp;crop=smart&amp;auto=webp&amp;s=3721378b9086f128fb9138db7dee679a8cc2b528',\n",
       "       'width': 640,\n",
       "       'height': 480},\n",
       "      {'url': 'https://preview.redd.it/hup9assag8401.jpg?width=960&amp;crop=smart&amp;auto=webp&amp;s=9803d01e938096884961343606e7d921e773d263',\n",
       "       'width': 960,\n",
       "       'height': 720},\n",
       "      {'url': 'https://preview.redd.it/hup9assag8401.jpg?width=1080&amp;crop=smart&amp;auto=webp&amp;s=7ee65bf48ca04c19fdfd88b915b8b3a23a6e37ae',\n",
       "       'width': 1080,\n",
       "       'height': 810}],\n",
       "     'variants': {},\n",
       "     'id': 'JJ916Zru6cZEmFQshlE4jqgv_OjuajyKADgKW5jDvIY'}],\n",
       "   'enabled': True},\n",
       "  'all_awardings': [],\n",
       "  'media_only': False,\n",
       "  'can_gild': False,\n",
       "  'spoiler': False,\n",
       "  'locked': False,\n",
       "  'author_flair_text': None,\n",
       "  'visited': False,\n",
       "  'num_reports': None,\n",
       "  'distinguished': None,\n",
       "  'subreddit_id': 't5_2s14k',\n",
       "  'mod_reason_by': None,\n",
       "  'removal_reason': None,\n",
       "  'link_flair_background_color': '',\n",
       "  'id': '7k5oy6',\n",
       "  'is_robot_indexable': True,\n",
       "  'report_reasons': None,\n",
       "  'author': 'AfterAether',\n",
       "  'num_crossposts': 0,\n",
       "  'num_comments': 121,\n",
       "  'send_replies': True,\n",
       "  'whitelist_status': 'all_ads',\n",
       "  'contest_mode': False,\n",
       "  'mod_reports': [],\n",
       "  'author_patreon_flair': False,\n",
       "  'author_flair_text_color': None,\n",
       "  'permalink': '/r/MCFC/comments/7k5oy6/a_few_weeks_ago_i_posted_my_dads_package_that/',\n",
       "  'parent_whitelist_status': 'all_ads',\n",
       "  'stickied': False,\n",
       "  'url': 'https://i.redd.it/hup9assag8401.jpg',\n",
       "  'subreddit_subscribers': 53026,\n",
       "  'created_utc': 1513407706.0,\n",
       "  'discussion_type': None,\n",
       "  'media': None,\n",
       "  'is_video': False}}"
      ]
     },
     "execution_count": 9,
     "metadata": {},
     "output_type": "execute_result"
    }
   ],
   "source": [
    "the_json['data']['children'][0]"
   ]
  },
  {
   "cell_type": "code",
   "execution_count": 9,
   "metadata": {},
   "outputs": [
    {
     "data": {
      "text/plain": [
       "'## [0 cup final to go (PL)](https://np.reddit.com/r/MCFC/comments/blhiz2/post_match_thread_man_city_1_0_leicester_city/emofvto/)'"
      ]
     },
     "execution_count": 9,
     "metadata": {},
     "output_type": "execute_result"
    }
   ],
   "source": [
    "the_json['data']['children'][1]['data']['selftext']"
   ]
  },
  {
   "cell_type": "code",
   "execution_count": 10,
   "metadata": {},
   "outputs": [
    {
     "data": {
      "text/plain": [
       "25"
      ]
     },
     "execution_count": 10,
     "metadata": {},
     "output_type": "execute_result"
    }
   ],
   "source": [
    "len(the_json['data']['children'])"
   ]
  },
  {
   "cell_type": "code",
   "execution_count": 11,
   "metadata": {
    "collapsed": true
   },
   "outputs": [
    {
     "data": {
      "text/html": [
       "<div>\n",
       "<style scoped>\n",
       "    .dataframe tbody tr th:only-of-type {\n",
       "        vertical-align: middle;\n",
       "    }\n",
       "\n",
       "    .dataframe tbody tr th {\n",
       "        vertical-align: top;\n",
       "    }\n",
       "\n",
       "    .dataframe thead th {\n",
       "        text-align: right;\n",
       "    }\n",
       "</style>\n",
       "<table border=\"1\" class=\"dataframe\">\n",
       "  <thead>\n",
       "    <tr style=\"text-align: right;\">\n",
       "      <th></th>\n",
       "      <th>data</th>\n",
       "      <th>kind</th>\n",
       "    </tr>\n",
       "  </thead>\n",
       "  <tbody>\n",
       "    <tr>\n",
       "      <th>0</th>\n",
       "      <td>{'approved_at_utc': None, 'subreddit': 'MCFC',...</td>\n",
       "      <td>t3</td>\n",
       "    </tr>\n",
       "    <tr>\n",
       "      <th>1</th>\n",
       "      <td>{'approved_at_utc': None, 'subreddit': 'MCFC',...</td>\n",
       "      <td>t3</td>\n",
       "    </tr>\n",
       "    <tr>\n",
       "      <th>2</th>\n",
       "      <td>{'approved_at_utc': None, 'subreddit': 'MCFC',...</td>\n",
       "      <td>t3</td>\n",
       "    </tr>\n",
       "    <tr>\n",
       "      <th>3</th>\n",
       "      <td>{'approved_at_utc': None, 'subreddit': 'MCFC',...</td>\n",
       "      <td>t3</td>\n",
       "    </tr>\n",
       "    <tr>\n",
       "      <th>4</th>\n",
       "      <td>{'approved_at_utc': None, 'subreddit': 'MCFC',...</td>\n",
       "      <td>t3</td>\n",
       "    </tr>\n",
       "    <tr>\n",
       "      <th>5</th>\n",
       "      <td>{'approved_at_utc': None, 'subreddit': 'MCFC',...</td>\n",
       "      <td>t3</td>\n",
       "    </tr>\n",
       "    <tr>\n",
       "      <th>6</th>\n",
       "      <td>{'approved_at_utc': None, 'subreddit': 'MCFC',...</td>\n",
       "      <td>t3</td>\n",
       "    </tr>\n",
       "    <tr>\n",
       "      <th>7</th>\n",
       "      <td>{'approved_at_utc': None, 'subreddit': 'MCFC',...</td>\n",
       "      <td>t3</td>\n",
       "    </tr>\n",
       "    <tr>\n",
       "      <th>8</th>\n",
       "      <td>{'approved_at_utc': None, 'subreddit': 'MCFC',...</td>\n",
       "      <td>t3</td>\n",
       "    </tr>\n",
       "    <tr>\n",
       "      <th>9</th>\n",
       "      <td>{'approved_at_utc': None, 'subreddit': 'MCFC',...</td>\n",
       "      <td>t3</td>\n",
       "    </tr>\n",
       "    <tr>\n",
       "      <th>10</th>\n",
       "      <td>{'approved_at_utc': None, 'subreddit': 'MCFC',...</td>\n",
       "      <td>t3</td>\n",
       "    </tr>\n",
       "    <tr>\n",
       "      <th>11</th>\n",
       "      <td>{'approved_at_utc': None, 'subreddit': 'MCFC',...</td>\n",
       "      <td>t3</td>\n",
       "    </tr>\n",
       "    <tr>\n",
       "      <th>12</th>\n",
       "      <td>{'approved_at_utc': None, 'subreddit': 'MCFC',...</td>\n",
       "      <td>t3</td>\n",
       "    </tr>\n",
       "    <tr>\n",
       "      <th>13</th>\n",
       "      <td>{'approved_at_utc': None, 'subreddit': 'MCFC',...</td>\n",
       "      <td>t3</td>\n",
       "    </tr>\n",
       "    <tr>\n",
       "      <th>14</th>\n",
       "      <td>{'approved_at_utc': None, 'subreddit': 'MCFC',...</td>\n",
       "      <td>t3</td>\n",
       "    </tr>\n",
       "    <tr>\n",
       "      <th>15</th>\n",
       "      <td>{'approved_at_utc': None, 'subreddit': 'MCFC',...</td>\n",
       "      <td>t3</td>\n",
       "    </tr>\n",
       "    <tr>\n",
       "      <th>16</th>\n",
       "      <td>{'approved_at_utc': None, 'subreddit': 'MCFC',...</td>\n",
       "      <td>t3</td>\n",
       "    </tr>\n",
       "    <tr>\n",
       "      <th>17</th>\n",
       "      <td>{'approved_at_utc': None, 'subreddit': 'MCFC',...</td>\n",
       "      <td>t3</td>\n",
       "    </tr>\n",
       "    <tr>\n",
       "      <th>18</th>\n",
       "      <td>{'approved_at_utc': None, 'subreddit': 'MCFC',...</td>\n",
       "      <td>t3</td>\n",
       "    </tr>\n",
       "    <tr>\n",
       "      <th>19</th>\n",
       "      <td>{'approved_at_utc': None, 'subreddit': 'MCFC',...</td>\n",
       "      <td>t3</td>\n",
       "    </tr>\n",
       "    <tr>\n",
       "      <th>20</th>\n",
       "      <td>{'approved_at_utc': None, 'subreddit': 'MCFC',...</td>\n",
       "      <td>t3</td>\n",
       "    </tr>\n",
       "    <tr>\n",
       "      <th>21</th>\n",
       "      <td>{'approved_at_utc': None, 'subreddit': 'MCFC',...</td>\n",
       "      <td>t3</td>\n",
       "    </tr>\n",
       "    <tr>\n",
       "      <th>22</th>\n",
       "      <td>{'approved_at_utc': None, 'subreddit': 'MCFC',...</td>\n",
       "      <td>t3</td>\n",
       "    </tr>\n",
       "    <tr>\n",
       "      <th>23</th>\n",
       "      <td>{'approved_at_utc': None, 'subreddit': 'MCFC',...</td>\n",
       "      <td>t3</td>\n",
       "    </tr>\n",
       "    <tr>\n",
       "      <th>24</th>\n",
       "      <td>{'approved_at_utc': None, 'subreddit': 'MCFC',...</td>\n",
       "      <td>t3</td>\n",
       "    </tr>\n",
       "  </tbody>\n",
       "</table>\n",
       "</div>"
      ],
      "text/plain": [
       "                                                 data kind\n",
       "0   {'approved_at_utc': None, 'subreddit': 'MCFC',...   t3\n",
       "1   {'approved_at_utc': None, 'subreddit': 'MCFC',...   t3\n",
       "2   {'approved_at_utc': None, 'subreddit': 'MCFC',...   t3\n",
       "3   {'approved_at_utc': None, 'subreddit': 'MCFC',...   t3\n",
       "4   {'approved_at_utc': None, 'subreddit': 'MCFC',...   t3\n",
       "5   {'approved_at_utc': None, 'subreddit': 'MCFC',...   t3\n",
       "6   {'approved_at_utc': None, 'subreddit': 'MCFC',...   t3\n",
       "7   {'approved_at_utc': None, 'subreddit': 'MCFC',...   t3\n",
       "8   {'approved_at_utc': None, 'subreddit': 'MCFC',...   t3\n",
       "9   {'approved_at_utc': None, 'subreddit': 'MCFC',...   t3\n",
       "10  {'approved_at_utc': None, 'subreddit': 'MCFC',...   t3\n",
       "11  {'approved_at_utc': None, 'subreddit': 'MCFC',...   t3\n",
       "12  {'approved_at_utc': None, 'subreddit': 'MCFC',...   t3\n",
       "13  {'approved_at_utc': None, 'subreddit': 'MCFC',...   t3\n",
       "14  {'approved_at_utc': None, 'subreddit': 'MCFC',...   t3\n",
       "15  {'approved_at_utc': None, 'subreddit': 'MCFC',...   t3\n",
       "16  {'approved_at_utc': None, 'subreddit': 'MCFC',...   t3\n",
       "17  {'approved_at_utc': None, 'subreddit': 'MCFC',...   t3\n",
       "18  {'approved_at_utc': None, 'subreddit': 'MCFC',...   t3\n",
       "19  {'approved_at_utc': None, 'subreddit': 'MCFC',...   t3\n",
       "20  {'approved_at_utc': None, 'subreddit': 'MCFC',...   t3\n",
       "21  {'approved_at_utc': None, 'subreddit': 'MCFC',...   t3\n",
       "22  {'approved_at_utc': None, 'subreddit': 'MCFC',...   t3\n",
       "23  {'approved_at_utc': None, 'subreddit': 'MCFC',...   t3\n",
       "24  {'approved_at_utc': None, 'subreddit': 'MCFC',...   t3"
      ]
     },
     "execution_count": 11,
     "metadata": {},
     "output_type": "execute_result"
    }
   ],
   "source": [
    "pd.DataFrame(the_json['data']['children'])"
   ]
  },
  {
   "cell_type": "code",
   "execution_count": 12,
   "metadata": {
    "collapsed": true
   },
   "outputs": [
    {
     "data": {
      "text/plain": [
       "['t3_7k5oy6',\n",
       " 't3_bnqdxk',\n",
       " 't3_8cged9',\n",
       " 't3_blh827',\n",
       " 't3_bq6pgw',\n",
       " 't3_awwl8d',\n",
       " 't3_806ahn',\n",
       " 't3_bqzecf',\n",
       " 't3_asuigr',\n",
       " 't3_7ivngz',\n",
       " 't3_6bhr5y',\n",
       " 't3_ap60m1',\n",
       " 't3_bkbulc',\n",
       " 't3_7a6mv0',\n",
       " 't3_b9opa4',\n",
       " 't3_98jzfm',\n",
       " 't3_c91a1v',\n",
       " 't3_avjga0',\n",
       " 't3_bop7qv',\n",
       " 't3_acard0',\n",
       " 't3_b0bgnt',\n",
       " 't3_c5zcmx',\n",
       " 't3_ani2tt',\n",
       " 't3_bqecbc',\n",
       " 't3_c0kjye']"
      ]
     },
     "execution_count": 12,
     "metadata": {},
     "output_type": "execute_result"
    }
   ],
   "source": [
    "[post['data']['name'] for post in the_json['data']['children']]"
   ]
  },
  {
   "cell_type": "code",
   "execution_count": 13,
   "metadata": {},
   "outputs": [
    {
     "data": {
      "text/plain": [
       "{'approved_at_utc': None,\n",
       " 'subreddit': 'MCFC',\n",
       " 'selftext': '',\n",
       " 'author_fullname': 't2_co44t',\n",
       " 'saved': False,\n",
       " 'mod_reason_title': None,\n",
       " 'gilded': 0,\n",
       " 'clicked': False,\n",
       " 'title': \"A few weeks ago, I posted my Dad's package that city sent, which included the Fernandinho signed shirt. Yesterday, the cancer took him from us. He was the biggest blue you'd ever meet.\",\n",
       " 'link_flair_richtext': [],\n",
       " 'subreddit_name_prefixed': 'r/MCFC',\n",
       " 'hidden': False,\n",
       " 'pwls': 6,\n",
       " 'link_flair_css_class': None,\n",
       " 'downs': 0,\n",
       " 'thumbnail_height': 105,\n",
       " 'hide_score': False,\n",
       " 'name': 't3_7k5oy6',\n",
       " 'quarantine': False,\n",
       " 'link_flair_text_color': 'dark',\n",
       " 'author_flair_background_color': None,\n",
       " 'subreddit_type': 'public',\n",
       " 'ups': 2850,\n",
       " 'total_awards_received': 0,\n",
       " 'media_embed': {},\n",
       " 'thumbnail_width': 140,\n",
       " 'author_flair_template_id': None,\n",
       " 'is_original_content': False,\n",
       " 'user_reports': [],\n",
       " 'secure_media': None,\n",
       " 'is_reddit_media_domain': True,\n",
       " 'is_meta': False,\n",
       " 'category': None,\n",
       " 'secure_media_embed': {},\n",
       " 'link_flair_text': None,\n",
       " 'can_mod_post': False,\n",
       " 'score': 2850,\n",
       " 'approved_by': None,\n",
       " 'thumbnail': 'https://b.thumbs.redditmedia.com/W6fw0BItvDwHb0tQbD5g9OssA3sFb6K0Azmdn42b3_Y.jpg',\n",
       " 'edited': False,\n",
       " 'author_flair_css_class': None,\n",
       " 'author_flair_richtext': [],\n",
       " 'gildings': {},\n",
       " 'post_hint': 'image',\n",
       " 'content_categories': None,\n",
       " 'is_self': False,\n",
       " 'mod_note': None,\n",
       " 'created': 1513436506.0,\n",
       " 'link_flair_type': 'text',\n",
       " 'wls': 6,\n",
       " 'banned_by': None,\n",
       " 'author_flair_type': 'text',\n",
       " 'domain': 'i.redd.it',\n",
       " 'allow_live_comments': True,\n",
       " 'selftext_html': None,\n",
       " 'likes': None,\n",
       " 'suggested_sort': None,\n",
       " 'banned_at_utc': None,\n",
       " 'view_count': None,\n",
       " 'archived': True,\n",
       " 'no_follow': False,\n",
       " 'is_crosspostable': False,\n",
       " 'pinned': False,\n",
       " 'over_18': False,\n",
       " 'preview': {'images': [{'source': {'url': 'https://preview.redd.it/hup9assag8401.jpg?auto=webp&amp;s=09ec62c320007b3525fc2d145ace336bc47c3827',\n",
       "     'width': 1600,\n",
       "     'height': 1200},\n",
       "    'resolutions': [{'url': 'https://preview.redd.it/hup9assag8401.jpg?width=108&amp;crop=smart&amp;auto=webp&amp;s=c3bb6e0ca7e8d93c412c55a9de97ea51d57aed4e',\n",
       "      'width': 108,\n",
       "      'height': 81},\n",
       "     {'url': 'https://preview.redd.it/hup9assag8401.jpg?width=216&amp;crop=smart&amp;auto=webp&amp;s=46d24baff64456f639794d316c298f6cb4dfe8ff',\n",
       "      'width': 216,\n",
       "      'height': 162},\n",
       "     {'url': 'https://preview.redd.it/hup9assag8401.jpg?width=320&amp;crop=smart&amp;auto=webp&amp;s=a7cd0df4c0b9c7fb93fda244f0038d4c6d13d129',\n",
       "      'width': 320,\n",
       "      'height': 240},\n",
       "     {'url': 'https://preview.redd.it/hup9assag8401.jpg?width=640&amp;crop=smart&amp;auto=webp&amp;s=3721378b9086f128fb9138db7dee679a8cc2b528',\n",
       "      'width': 640,\n",
       "      'height': 480},\n",
       "     {'url': 'https://preview.redd.it/hup9assag8401.jpg?width=960&amp;crop=smart&amp;auto=webp&amp;s=9803d01e938096884961343606e7d921e773d263',\n",
       "      'width': 960,\n",
       "      'height': 720},\n",
       "     {'url': 'https://preview.redd.it/hup9assag8401.jpg?width=1080&amp;crop=smart&amp;auto=webp&amp;s=7ee65bf48ca04c19fdfd88b915b8b3a23a6e37ae',\n",
       "      'width': 1080,\n",
       "      'height': 810}],\n",
       "    'variants': {},\n",
       "    'id': 'JJ916Zru6cZEmFQshlE4jqgv_OjuajyKADgKW5jDvIY'}],\n",
       "  'enabled': True},\n",
       " 'all_awardings': [],\n",
       " 'media_only': False,\n",
       " 'can_gild': False,\n",
       " 'spoiler': False,\n",
       " 'locked': False,\n",
       " 'author_flair_text': None,\n",
       " 'visited': False,\n",
       " 'num_reports': None,\n",
       " 'distinguished': None,\n",
       " 'subreddit_id': 't5_2s14k',\n",
       " 'mod_reason_by': None,\n",
       " 'removal_reason': None,\n",
       " 'link_flair_background_color': '',\n",
       " 'id': '7k5oy6',\n",
       " 'is_robot_indexable': True,\n",
       " 'report_reasons': None,\n",
       " 'author': 'AfterAether',\n",
       " 'num_crossposts': 0,\n",
       " 'num_comments': 121,\n",
       " 'send_replies': True,\n",
       " 'whitelist_status': 'all_ads',\n",
       " 'contest_mode': False,\n",
       " 'mod_reports': [],\n",
       " 'author_patreon_flair': False,\n",
       " 'author_flair_text_color': None,\n",
       " 'permalink': '/r/MCFC/comments/7k5oy6/a_few_weeks_ago_i_posted_my_dads_package_that/',\n",
       " 'parent_whitelist_status': 'all_ads',\n",
       " 'stickied': False,\n",
       " 'url': 'https://i.redd.it/hup9assag8401.jpg',\n",
       " 'subreddit_subscribers': 53026,\n",
       " 'created_utc': 1513407706.0,\n",
       " 'discussion_type': None,\n",
       " 'media': None,\n",
       " 'is_video': False}"
      ]
     },
     "execution_count": 13,
     "metadata": {},
     "output_type": "execute_result"
    }
   ],
   "source": [
    "the_json['data']['children'][0]['data']"
   ]
  },
  {
   "cell_type": "code",
   "execution_count": 14,
   "metadata": {},
   "outputs": [
    {
     "data": {
      "text/plain": [
       "'MCFC'"
      ]
     },
     "execution_count": 14,
     "metadata": {},
     "output_type": "execute_result"
    }
   ],
   "source": [
    "the_json['data']['children'][0]['data']['subreddit']"
   ]
  },
  {
   "cell_type": "code",
   "execution_count": 15,
   "metadata": {},
   "outputs": [],
   "source": [
    "param = {'after': 't3_c0kjye'}"
   ]
  },
  {
   "cell_type": "code",
   "execution_count": 16,
   "metadata": {},
   "outputs": [
    {
     "data": {
      "text/plain": [
       "<Response [200]>"
      ]
     },
     "execution_count": 16,
     "metadata": {},
     "output_type": "execute_result"
    }
   ],
   "source": [
    "requests.get(url, params = param, headers = headers)"
   ]
  },
  {
   "cell_type": "code",
   "execution_count": 17,
   "metadata": {},
   "outputs": [
    {
     "name": "stdout",
     "output_type": "stream",
     "text": [
      "0\n",
      "1\n",
      "2\n",
      "3\n",
      "4\n",
      "5\n",
      "6\n",
      "7\n",
      "8\n",
      "9\n",
      "10\n",
      "11\n",
      "12\n",
      "13\n",
      "14\n",
      "15\n",
      "16\n",
      "17\n",
      "18\n",
      "19\n",
      "20\n",
      "21\n",
      "22\n",
      "23\n",
      "24\n",
      "25\n",
      "26\n",
      "27\n",
      "28\n",
      "29\n",
      "30\n",
      "31\n",
      "32\n",
      "33\n",
      "34\n",
      "35\n",
      "36\n",
      "37\n",
      "38\n",
      "39\n",
      "40\n",
      "41\n",
      "42\n",
      "43\n",
      "44\n",
      "45\n",
      "46\n",
      "47\n",
      "48\n",
      "49\n",
      "50\n",
      "51\n",
      "52\n",
      "53\n",
      "54\n",
      "55\n",
      "56\n",
      "57\n",
      "58\n",
      "59\n",
      "60\n",
      "61\n",
      "62\n",
      "63\n",
      "64\n",
      "65\n",
      "66\n",
      "67\n",
      "68\n",
      "69\n",
      "70\n",
      "71\n",
      "72\n",
      "73\n",
      "74\n",
      "75\n",
      "76\n",
      "77\n",
      "78\n",
      "79\n",
      "80\n",
      "81\n",
      "82\n",
      "83\n",
      "84\n",
      "85\n",
      "86\n",
      "87\n",
      "88\n",
      "89\n",
      "90\n",
      "91\n",
      "92\n",
      "93\n",
      "94\n",
      "95\n",
      "96\n",
      "97\n",
      "98\n",
      "99\n"
     ]
    }
   ],
   "source": [
    "posts = []\n",
    "after = None\n",
    "for i in range(100):\n",
    "    print(i)\n",
    "    if after == None:\n",
    "        params = {}\n",
    "    else:\n",
    "        params = {'after': after}\n",
    "    url = 'https://www.reddit.com/r/MCFC.json'\n",
    "    res = requests.get(url, params=params, headers=headers)\n",
    "    if res.status_code == 200:\n",
    "        the_json = res.json()\n",
    "        posts.extend(the_json['data']['children'])\n",
    "        after = the_json['data']['after']\n",
    "    else:\n",
    "        print(res.status_code)\n",
    "        break\n",
    "    time.sleep(3)"
   ]
  },
  {
   "cell_type": "code",
   "execution_count": 18,
   "metadata": {},
   "outputs": [
    {
     "data": {
      "text/plain": [
       "2492"
      ]
     },
     "execution_count": 18,
     "metadata": {},
     "output_type": "execute_result"
    }
   ],
   "source": [
    "len(posts)"
   ]
  },
  {
   "cell_type": "code",
   "execution_count": 19,
   "metadata": {},
   "outputs": [
    {
     "data": {
      "text/plain": [
       "'/r/MCFC/comments/btbvb5/houssem_aouar_when_asked_if_hed_like_to_play_for/'"
      ]
     },
     "execution_count": 19,
     "metadata": {},
     "output_type": "execute_result"
    }
   ],
   "source": [
    "the_json['data']['children'][0]['data']['permalink']"
   ]
  },
  {
   "cell_type": "code",
   "execution_count": 20,
   "metadata": {},
   "outputs": [
    {
     "ename": "AttributeError",
     "evalue": "'str' object has no attribute 'extend'",
     "output_type": "error",
     "traceback": [
      "\u001b[1;31m---------------------------------------------------------------------------\u001b[0m",
      "\u001b[1;31mAttributeError\u001b[0m                            Traceback (most recent call last)",
      "\u001b[1;32m<ipython-input-20-75d8acfdab1f>\u001b[0m in \u001b[0;36m<module>\u001b[1;34m\u001b[0m\n\u001b[0;32m      1\u001b[0m \u001b[0mcomments\u001b[0m \u001b[1;33m=\u001b[0m \u001b[1;33m[\u001b[0m\u001b[1;33m]\u001b[0m\u001b[1;33m\u001b[0m\u001b[1;33m\u001b[0m\u001b[0m\n\u001b[0;32m      2\u001b[0m \u001b[1;32mfor\u001b[0m \u001b[0mcom\u001b[0m \u001b[1;32min\u001b[0m \u001b[0mthe_json\u001b[0m\u001b[1;33m[\u001b[0m\u001b[1;34m'data'\u001b[0m\u001b[1;33m]\u001b[0m\u001b[1;33m[\u001b[0m\u001b[1;34m'children'\u001b[0m\u001b[1;33m]\u001b[0m\u001b[1;33m[\u001b[0m\u001b[1;36m0\u001b[0m\u001b[1;33m]\u001b[0m\u001b[1;33m[\u001b[0m\u001b[1;34m'data'\u001b[0m\u001b[1;33m]\u001b[0m\u001b[1;33m[\u001b[0m\u001b[1;34m'permalink'\u001b[0m\u001b[1;33m]\u001b[0m\u001b[1;33m:\u001b[0m\u001b[1;33m\u001b[0m\u001b[1;33m\u001b[0m\u001b[0m\n\u001b[1;32m----> 3\u001b[1;33m     \u001b[0mcom\u001b[0m\u001b[1;33m.\u001b[0m\u001b[0mextend\u001b[0m\u001b[1;33m(\u001b[0m\u001b[1;33m)\u001b[0m\u001b[1;33m\u001b[0m\u001b[1;33m\u001b[0m\u001b[0m\n\u001b[0m",
      "\u001b[1;31mAttributeError\u001b[0m: 'str' object has no attribute 'extend'"
     ]
    }
   ],
   "source": [
    "comments = []\n",
    "for com in the_json['data']['children'][0]['data']['permalink']:\n",
    "    com.extend()"
   ]
  },
  {
   "cell_type": "code",
   "execution_count": 21,
   "metadata": {},
   "outputs": [
    {
     "data": {
      "text/html": [
       "<div>\n",
       "<style scoped>\n",
       "    .dataframe tbody tr th:only-of-type {\n",
       "        vertical-align: middle;\n",
       "    }\n",
       "\n",
       "    .dataframe tbody tr th {\n",
       "        vertical-align: top;\n",
       "    }\n",
       "\n",
       "    .dataframe thead th {\n",
       "        text-align: right;\n",
       "    }\n",
       "</style>\n",
       "<table border=\"1\" class=\"dataframe\">\n",
       "  <thead>\n",
       "    <tr style=\"text-align: right;\">\n",
       "      <th></th>\n",
       "      <th>data</th>\n",
       "      <th>kind</th>\n",
       "    </tr>\n",
       "  </thead>\n",
       "  <tbody>\n",
       "    <tr>\n",
       "      <th>0</th>\n",
       "      <td>{'approved_at_utc': None, 'subreddit': 'MCFC',...</td>\n",
       "      <td>t3</td>\n",
       "    </tr>\n",
       "    <tr>\n",
       "      <th>1</th>\n",
       "      <td>{'approved_at_utc': None, 'subreddit': 'MCFC',...</td>\n",
       "      <td>t3</td>\n",
       "    </tr>\n",
       "    <tr>\n",
       "      <th>2</th>\n",
       "      <td>{'approved_at_utc': None, 'subreddit': 'MCFC',...</td>\n",
       "      <td>t3</td>\n",
       "    </tr>\n",
       "    <tr>\n",
       "      <th>3</th>\n",
       "      <td>{'approved_at_utc': None, 'subreddit': 'MCFC',...</td>\n",
       "      <td>t3</td>\n",
       "    </tr>\n",
       "    <tr>\n",
       "      <th>4</th>\n",
       "      <td>{'approved_at_utc': None, 'subreddit': 'MCFC',...</td>\n",
       "      <td>t3</td>\n",
       "    </tr>\n",
       "    <tr>\n",
       "      <th>5</th>\n",
       "      <td>{'approved_at_utc': None, 'subreddit': 'MCFC',...</td>\n",
       "      <td>t3</td>\n",
       "    </tr>\n",
       "    <tr>\n",
       "      <th>6</th>\n",
       "      <td>{'approved_at_utc': None, 'subreddit': 'MCFC',...</td>\n",
       "      <td>t3</td>\n",
       "    </tr>\n",
       "    <tr>\n",
       "      <th>7</th>\n",
       "      <td>{'approved_at_utc': None, 'subreddit': 'MCFC',...</td>\n",
       "      <td>t3</td>\n",
       "    </tr>\n",
       "    <tr>\n",
       "      <th>8</th>\n",
       "      <td>{'approved_at_utc': None, 'subreddit': 'MCFC',...</td>\n",
       "      <td>t3</td>\n",
       "    </tr>\n",
       "    <tr>\n",
       "      <th>9</th>\n",
       "      <td>{'approved_at_utc': None, 'subreddit': 'MCFC',...</td>\n",
       "      <td>t3</td>\n",
       "    </tr>\n",
       "    <tr>\n",
       "      <th>10</th>\n",
       "      <td>{'approved_at_utc': None, 'subreddit': 'MCFC',...</td>\n",
       "      <td>t3</td>\n",
       "    </tr>\n",
       "    <tr>\n",
       "      <th>11</th>\n",
       "      <td>{'approved_at_utc': None, 'subreddit': 'MCFC',...</td>\n",
       "      <td>t3</td>\n",
       "    </tr>\n",
       "    <tr>\n",
       "      <th>12</th>\n",
       "      <td>{'approved_at_utc': None, 'subreddit': 'MCFC',...</td>\n",
       "      <td>t3</td>\n",
       "    </tr>\n",
       "    <tr>\n",
       "      <th>13</th>\n",
       "      <td>{'approved_at_utc': None, 'subreddit': 'MCFC',...</td>\n",
       "      <td>t3</td>\n",
       "    </tr>\n",
       "    <tr>\n",
       "      <th>14</th>\n",
       "      <td>{'approved_at_utc': None, 'subreddit': 'MCFC',...</td>\n",
       "      <td>t3</td>\n",
       "    </tr>\n",
       "    <tr>\n",
       "      <th>15</th>\n",
       "      <td>{'approved_at_utc': None, 'subreddit': 'MCFC',...</td>\n",
       "      <td>t3</td>\n",
       "    </tr>\n",
       "    <tr>\n",
       "      <th>16</th>\n",
       "      <td>{'approved_at_utc': None, 'subreddit': 'MCFC',...</td>\n",
       "      <td>t3</td>\n",
       "    </tr>\n",
       "    <tr>\n",
       "      <th>17</th>\n",
       "      <td>{'approved_at_utc': None, 'subreddit': 'MCFC',...</td>\n",
       "      <td>t3</td>\n",
       "    </tr>\n",
       "    <tr>\n",
       "      <th>18</th>\n",
       "      <td>{'approved_at_utc': None, 'subreddit': 'MCFC',...</td>\n",
       "      <td>t3</td>\n",
       "    </tr>\n",
       "    <tr>\n",
       "      <th>19</th>\n",
       "      <td>{'approved_at_utc': None, 'subreddit': 'MCFC',...</td>\n",
       "      <td>t3</td>\n",
       "    </tr>\n",
       "    <tr>\n",
       "      <th>20</th>\n",
       "      <td>{'approved_at_utc': None, 'subreddit': 'MCFC',...</td>\n",
       "      <td>t3</td>\n",
       "    </tr>\n",
       "    <tr>\n",
       "      <th>21</th>\n",
       "      <td>{'approved_at_utc': None, 'subreddit': 'MCFC',...</td>\n",
       "      <td>t3</td>\n",
       "    </tr>\n",
       "    <tr>\n",
       "      <th>22</th>\n",
       "      <td>{'approved_at_utc': None, 'subreddit': 'MCFC',...</td>\n",
       "      <td>t3</td>\n",
       "    </tr>\n",
       "    <tr>\n",
       "      <th>23</th>\n",
       "      <td>{'approved_at_utc': None, 'subreddit': 'MCFC',...</td>\n",
       "      <td>t3</td>\n",
       "    </tr>\n",
       "    <tr>\n",
       "      <th>24</th>\n",
       "      <td>{'approved_at_utc': None, 'subreddit': 'MCFC',...</td>\n",
       "      <td>t3</td>\n",
       "    </tr>\n",
       "  </tbody>\n",
       "</table>\n",
       "</div>"
      ],
      "text/plain": [
       "                                                 data kind\n",
       "0   {'approved_at_utc': None, 'subreddit': 'MCFC',...   t3\n",
       "1   {'approved_at_utc': None, 'subreddit': 'MCFC',...   t3\n",
       "2   {'approved_at_utc': None, 'subreddit': 'MCFC',...   t3\n",
       "3   {'approved_at_utc': None, 'subreddit': 'MCFC',...   t3\n",
       "4   {'approved_at_utc': None, 'subreddit': 'MCFC',...   t3\n",
       "5   {'approved_at_utc': None, 'subreddit': 'MCFC',...   t3\n",
       "6   {'approved_at_utc': None, 'subreddit': 'MCFC',...   t3\n",
       "7   {'approved_at_utc': None, 'subreddit': 'MCFC',...   t3\n",
       "8   {'approved_at_utc': None, 'subreddit': 'MCFC',...   t3\n",
       "9   {'approved_at_utc': None, 'subreddit': 'MCFC',...   t3\n",
       "10  {'approved_at_utc': None, 'subreddit': 'MCFC',...   t3\n",
       "11  {'approved_at_utc': None, 'subreddit': 'MCFC',...   t3\n",
       "12  {'approved_at_utc': None, 'subreddit': 'MCFC',...   t3\n",
       "13  {'approved_at_utc': None, 'subreddit': 'MCFC',...   t3\n",
       "14  {'approved_at_utc': None, 'subreddit': 'MCFC',...   t3\n",
       "15  {'approved_at_utc': None, 'subreddit': 'MCFC',...   t3\n",
       "16  {'approved_at_utc': None, 'subreddit': 'MCFC',...   t3\n",
       "17  {'approved_at_utc': None, 'subreddit': 'MCFC',...   t3\n",
       "18  {'approved_at_utc': None, 'subreddit': 'MCFC',...   t3\n",
       "19  {'approved_at_utc': None, 'subreddit': 'MCFC',...   t3\n",
       "20  {'approved_at_utc': None, 'subreddit': 'MCFC',...   t3\n",
       "21  {'approved_at_utc': None, 'subreddit': 'MCFC',...   t3\n",
       "22  {'approved_at_utc': None, 'subreddit': 'MCFC',...   t3\n",
       "23  {'approved_at_utc': None, 'subreddit': 'MCFC',...   t3\n",
       "24  {'approved_at_utc': None, 'subreddit': 'MCFC',...   t3"
      ]
     },
     "execution_count": 21,
     "metadata": {},
     "output_type": "execute_result"
    }
   ],
   "source": [
    "pd.DataFrame(the_json['data']['children'])"
   ]
  },
  {
   "cell_type": "code",
   "execution_count": 22,
   "metadata": {},
   "outputs": [],
   "source": [
    "def clean_data(post_list):\n",
    "    titles = []\n",
    "    posts = []\n",
    "    subreddits = []\n",
    "\n",
    "    for item in post_list:\n",
    "        title = item['data']['title']\n",
    "        titles.append(title)\n",
    "        soccer_title_df = pd.DataFrame(titles, columns = [\"title\"])\n",
    "\n",
    "    for p in post_list:\n",
    "        post = p['data']['selftext'].strip()\n",
    "        posts.append(post)\n",
    "        soccer_post_df = pd.DataFrame(posts, columns = ['posts'])\n",
    "\n",
    "    for sub in post_list:\n",
    "        subreddit = sub['data']['subreddit']\n",
    "        subreddits.append(subreddit)\n",
    "        soccer_subreddit_df = pd.DataFrame(subreddits, columns = ['subreddit'])\n",
    "\n",
    "    df = pd.concat([soccer_title_df, soccer_post_df, soccer_subreddit_df], axis = 1, join = 'outer')\n",
    "    return df"
   ]
  },
  {
   "cell_type": "code",
   "execution_count": 23,
   "metadata": {},
   "outputs": [],
   "source": [
    "comments = []\n",
    "for com in the_json['data']['children']:\n",
    "    url_perm = com['data']['permalink'] + '.json'\n",
    "    url = 'https://www.reddit.com' + url_perm\n",
    "    res = requests.get(url, params=param, headers=headers)\n",
    "    comment = res.json()"
   ]
  },
  {
   "cell_type": "code",
   "execution_count": 24,
   "metadata": {},
   "outputs": [],
   "source": [
    "mcfc_df = clean_data(posts)"
   ]
  },
  {
   "cell_type": "code",
   "execution_count": 26,
   "metadata": {},
   "outputs": [],
   "source": [
    "mcfc_df.to_csv('city_df.csv')"
   ]
  },
  {
   "cell_type": "code",
   "execution_count": null,
   "metadata": {},
   "outputs": [],
   "source": []
  }
 ],
 "metadata": {
  "kernelspec": {
   "display_name": "Python 3",
   "language": "python",
   "name": "python3"
  },
  "language_info": {
   "codemirror_mode": {
    "name": "ipython",
    "version": 3
   },
   "file_extension": ".py",
   "mimetype": "text/x-python",
   "name": "python",
   "nbconvert_exporter": "python",
   "pygments_lexer": "ipython3",
   "version": "3.7.3"
  }
 },
 "nbformat": 4,
 "nbformat_minor": 2
}
