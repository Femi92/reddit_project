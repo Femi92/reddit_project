{
 "cells": [
  {
   "cell_type": "markdown",
   "metadata": {},
   "source": [
    "***Problem Statement***"
   ]
  },
  {
   "cell_type": "markdown",
   "metadata": {},
   "source": [
    "As a representative of Manchester United plc, a new issue that has arisen of the years has been the rise of local neighbors Manchester City. Along with the decline of our on-field performance over the past 6 years, the club are running a serious risk of losing a generation of fans to Manchester City. In order to avoid that, Manchester United needs to continue to improve their social media presence and "
   ]
  },
  {
   "cell_type": "markdown",
   "metadata": {},
   "source": [
    "***Importing Libraries***"
   ]
  },
  {
   "cell_type": "code",
   "execution_count": 1,
   "metadata": {},
   "outputs": [],
   "source": [
    "import requests, time, json, re\n",
    "import pandas as pd\n",
    "import seaborn as sns\n",
    "import matplotlib.pyplot as plt\n",
    "from sklearn.feature_extraction.text import CountVectorizer, TfidfVectorizer\n",
    "from sklearn.metrics import confusion_matrix, roc_curve, auc\n",
    "from sklearn.model_selection import train_test_split\n",
    "from sklearn.linear_model import LogisticRegression\n",
    "from sklearn.naive_bayes import MultinomialNB\n",
    "from sklearn.feature_extraction import stop_words\n",
    "from nltk.corpus import stopwords\n",
    "from nltk.stem import WordNetLemmatizer\n",
    "from nltk.tokenize import RegexpTokenizer"
   ]
  },
  {
   "cell_type": "markdown",
   "metadata": {},
   "source": [
    "***EDA***"
   ]
  },
  {
   "cell_type": "code",
   "execution_count": 2,
   "metadata": {},
   "outputs": [
    {
     "data": {
      "text/html": [
       "<div>\n",
       "<style scoped>\n",
       "    .dataframe tbody tr th:only-of-type {\n",
       "        vertical-align: middle;\n",
       "    }\n",
       "\n",
       "    .dataframe tbody tr th {\n",
       "        vertical-align: top;\n",
       "    }\n",
       "\n",
       "    .dataframe thead th {\n",
       "        text-align: right;\n",
       "    }\n",
       "</style>\n",
       "<table border=\"1\" class=\"dataframe\">\n",
       "  <thead>\n",
       "    <tr style=\"text-align: right;\">\n",
       "      <th></th>\n",
       "      <th>Unnamed: 0</th>\n",
       "      <th>title</th>\n",
       "      <th>posts</th>\n",
       "      <th>subreddit</th>\n",
       "    </tr>\n",
       "  </thead>\n",
       "  <tbody>\n",
       "    <tr>\n",
       "      <th>0</th>\n",
       "      <td>0</td>\n",
       "      <td>Rule Updates and Reminders - Title Formatting ...</td>\n",
       "      <td>Greetings City fans! \\n\\nWelcome to the Puma e...</td>\n",
       "      <td>MCFC</td>\n",
       "    </tr>\n",
       "    <tr>\n",
       "      <th>1</th>\n",
       "      <td>1</td>\n",
       "      <td>Weekly general footy discussion thread</td>\n",
       "      <td>In an effort to cut down on the number of sort...</td>\n",
       "      <td>MCFC</td>\n",
       "    </tr>\n",
       "    <tr>\n",
       "      <th>2</th>\n",
       "      <td>2</td>\n",
       "      <td>The Blues in Brazil</td>\n",
       "      <td>NaN</td>\n",
       "      <td>MCFC</td>\n",
       "    </tr>\n",
       "    <tr>\n",
       "      <th>3</th>\n",
       "      <td>3</td>\n",
       "      <td>Imagine the inferiority complex to say this wh...</td>\n",
       "      <td>NaN</td>\n",
       "      <td>MCFC</td>\n",
       "    </tr>\n",
       "    <tr>\n",
       "      <th>4</th>\n",
       "      <td>4</td>\n",
       "      <td>[StuBrennan] ManCity confident Sane will sign ...</td>\n",
       "      <td>NaN</td>\n",
       "      <td>MCFC</td>\n",
       "    </tr>\n",
       "  </tbody>\n",
       "</table>\n",
       "</div>"
      ],
      "text/plain": [
       "   Unnamed: 0                                              title  \\\n",
       "0           0  Rule Updates and Reminders - Title Formatting ...   \n",
       "1           1             Weekly general footy discussion thread   \n",
       "2           2                                The Blues in Brazil   \n",
       "3           3  Imagine the inferiority complex to say this wh...   \n",
       "4           4  [StuBrennan] ManCity confident Sane will sign ...   \n",
       "\n",
       "                                               posts subreddit  \n",
       "0  Greetings City fans! \\n\\nWelcome to the Puma e...      MCFC  \n",
       "1  In an effort to cut down on the number of sort...      MCFC  \n",
       "2                                                NaN      MCFC  \n",
       "3                                                NaN      MCFC  \n",
       "4                                                NaN      MCFC  "
      ]
     },
     "execution_count": 2,
     "metadata": {},
     "output_type": "execute_result"
    }
   ],
   "source": [
    "# Reading in the 2 Reddit scrapes\n",
    "mcfc = pd.read_csv('city_df.csv')\n",
    "mcfc.head()"
   ]
  },
  {
   "cell_type": "code",
   "execution_count": 3,
   "metadata": {},
   "outputs": [
    {
     "data": {
      "text/html": [
       "<div>\n",
       "<style scoped>\n",
       "    .dataframe tbody tr th:only-of-type {\n",
       "        vertical-align: middle;\n",
       "    }\n",
       "\n",
       "    .dataframe tbody tr th {\n",
       "        vertical-align: top;\n",
       "    }\n",
       "\n",
       "    .dataframe thead th {\n",
       "        text-align: right;\n",
       "    }\n",
       "</style>\n",
       "<table border=\"1\" class=\"dataframe\">\n",
       "  <thead>\n",
       "    <tr style=\"text-align: right;\">\n",
       "      <th></th>\n",
       "      <th>Unnamed: 0</th>\n",
       "      <th>title</th>\n",
       "      <th>posts</th>\n",
       "      <th>subreddit</th>\n",
       "    </tr>\n",
       "  </thead>\n",
       "  <tbody>\n",
       "    <tr>\n",
       "      <th>0</th>\n",
       "      <td>0</td>\n",
       "      <td>[Transfer Round Up &amp;amp; Discussion] [2019-07-11]</td>\n",
       "      <td>**It's r/reddevils' 7th summer transfer window...</td>\n",
       "      <td>reddevils</td>\n",
       "    </tr>\n",
       "    <tr>\n",
       "      <th>1</th>\n",
       "      <td>1</td>\n",
       "      <td>[Transfer Round Up &amp;amp; Discussion] [2019-07-12]</td>\n",
       "      <td>**It's r/reddevils' 7th summer transfer window...</td>\n",
       "      <td>reddevils</td>\n",
       "    </tr>\n",
       "    <tr>\n",
       "      <th>2</th>\n",
       "      <td>2</td>\n",
       "      <td>Happy Birthday Luke Shaw</td>\n",
       "      <td>NaN</td>\n",
       "      <td>reddevils</td>\n",
       "    </tr>\n",
       "    <tr>\n",
       "      <th>3</th>\n",
       "      <td>3</td>\n",
       "      <td>[Di Marzio] United ready to offer €80 mill for...</td>\n",
       "      <td>NaN</td>\n",
       "      <td>reddevils</td>\n",
       "    </tr>\n",
       "    <tr>\n",
       "      <th>4</th>\n",
       "      <td>4</td>\n",
       "      <td>United set the value of Romelu Lukaku at €85m ...</td>\n",
       "      <td>NaN</td>\n",
       "      <td>reddevils</td>\n",
       "    </tr>\n",
       "  </tbody>\n",
       "</table>\n",
       "</div>"
      ],
      "text/plain": [
       "   Unnamed: 0                                              title  \\\n",
       "0           0  [Transfer Round Up &amp; Discussion] [2019-07-11]   \n",
       "1           1  [Transfer Round Up &amp; Discussion] [2019-07-12]   \n",
       "2           2                           Happy Birthday Luke Shaw   \n",
       "3           3  [Di Marzio] United ready to offer €80 mill for...   \n",
       "4           4  United set the value of Romelu Lukaku at €85m ...   \n",
       "\n",
       "                                               posts  subreddit  \n",
       "0  **It's r/reddevils' 7th summer transfer window...  reddevils  \n",
       "1  **It's r/reddevils' 7th summer transfer window...  reddevils  \n",
       "2                                                NaN  reddevils  \n",
       "3                                                NaN  reddevils  \n",
       "4                                                NaN  reddevils  "
      ]
     },
     "execution_count": 3,
     "metadata": {},
     "output_type": "execute_result"
    }
   ],
   "source": [
    "mufc = pd.read_csv('utd_df.csv')\n",
    "mufc.head()"
   ]
  },
  {
   "cell_type": "code",
   "execution_count": 4,
   "metadata": {},
   "outputs": [
    {
     "data": {
      "text/html": [
       "<div>\n",
       "<style scoped>\n",
       "    .dataframe tbody tr th:only-of-type {\n",
       "        vertical-align: middle;\n",
       "    }\n",
       "\n",
       "    .dataframe tbody tr th {\n",
       "        vertical-align: top;\n",
       "    }\n",
       "\n",
       "    .dataframe thead th {\n",
       "        text-align: right;\n",
       "    }\n",
       "</style>\n",
       "<table border=\"1\" class=\"dataframe\">\n",
       "  <thead>\n",
       "    <tr style=\"text-align: right;\">\n",
       "      <th></th>\n",
       "      <th>Unnamed: 0</th>\n",
       "      <th>title</th>\n",
       "      <th>posts</th>\n",
       "      <th>subreddit</th>\n",
       "    </tr>\n",
       "  </thead>\n",
       "  <tbody>\n",
       "    <tr>\n",
       "      <th>0</th>\n",
       "      <td>0</td>\n",
       "      <td>[Transfer Round Up &amp;amp; Discussion] [2019-07-11]</td>\n",
       "      <td>**It's r/reddevils' 7th summer transfer window...</td>\n",
       "      <td>reddevils</td>\n",
       "    </tr>\n",
       "    <tr>\n",
       "      <th>1</th>\n",
       "      <td>1</td>\n",
       "      <td>[Transfer Round Up &amp;amp; Discussion] [2019-07-12]</td>\n",
       "      <td>**It's r/reddevils' 7th summer transfer window...</td>\n",
       "      <td>reddevils</td>\n",
       "    </tr>\n",
       "    <tr>\n",
       "      <th>2</th>\n",
       "      <td>2</td>\n",
       "      <td>Happy Birthday Luke Shaw</td>\n",
       "      <td>NaN</td>\n",
       "      <td>reddevils</td>\n",
       "    </tr>\n",
       "    <tr>\n",
       "      <th>3</th>\n",
       "      <td>3</td>\n",
       "      <td>[Di Marzio] United ready to offer €80 mill for...</td>\n",
       "      <td>NaN</td>\n",
       "      <td>reddevils</td>\n",
       "    </tr>\n",
       "    <tr>\n",
       "      <th>4</th>\n",
       "      <td>4</td>\n",
       "      <td>United set the value of Romelu Lukaku at €85m ...</td>\n",
       "      <td>NaN</td>\n",
       "      <td>reddevils</td>\n",
       "    </tr>\n",
       "  </tbody>\n",
       "</table>\n",
       "</div>"
      ],
      "text/plain": [
       "   Unnamed: 0                                              title  \\\n",
       "0           0  [Transfer Round Up &amp; Discussion] [2019-07-11]   \n",
       "1           1  [Transfer Round Up &amp; Discussion] [2019-07-12]   \n",
       "2           2                           Happy Birthday Luke Shaw   \n",
       "3           3  [Di Marzio] United ready to offer €80 mill for...   \n",
       "4           4  United set the value of Romelu Lukaku at €85m ...   \n",
       "\n",
       "                                               posts  subreddit  \n",
       "0  **It's r/reddevils' 7th summer transfer window...  reddevils  \n",
       "1  **It's r/reddevils' 7th summer transfer window...  reddevils  \n",
       "2                                                NaN  reddevils  \n",
       "3                                                NaN  reddevils  \n",
       "4                                                NaN  reddevils  "
      ]
     },
     "execution_count": 4,
     "metadata": {},
     "output_type": "execute_result"
    }
   ],
   "source": [
    "# Combining the two dataframes\n",
    "manc = pd.concat([mufc, mcfc])\n",
    "manc.head()"
   ]
  },
  {
   "cell_type": "code",
   "execution_count": 5,
   "metadata": {},
   "outputs": [
    {
     "data": {
      "text/html": [
       "<div>\n",
       "<style scoped>\n",
       "    .dataframe tbody tr th:only-of-type {\n",
       "        vertical-align: middle;\n",
       "    }\n",
       "\n",
       "    .dataframe tbody tr th {\n",
       "        vertical-align: top;\n",
       "    }\n",
       "\n",
       "    .dataframe thead th {\n",
       "        text-align: right;\n",
       "    }\n",
       "</style>\n",
       "<table border=\"1\" class=\"dataframe\">\n",
       "  <thead>\n",
       "    <tr style=\"text-align: right;\">\n",
       "      <th></th>\n",
       "      <th>Unnamed: 0</th>\n",
       "      <th>title</th>\n",
       "      <th>posts</th>\n",
       "      <th>subreddit</th>\n",
       "    </tr>\n",
       "  </thead>\n",
       "  <tbody>\n",
       "    <tr>\n",
       "      <th>2487</th>\n",
       "      <td>2487</td>\n",
       "      <td>Bruno fernandes: “I said that I would leave Sp...</td>\n",
       "      <td>NaN</td>\n",
       "      <td>MCFC</td>\n",
       "    </tr>\n",
       "    <tr>\n",
       "      <th>2488</th>\n",
       "      <td>2488</td>\n",
       "      <td>Sam Lee: \"City will have contract talks with S...</td>\n",
       "      <td>NaN</td>\n",
       "      <td>MCFC</td>\n",
       "    </tr>\n",
       "    <tr>\n",
       "      <th>2489</th>\n",
       "      <td>2489</td>\n",
       "      <td>David Silva has been offered a £12M tax-free o...</td>\n",
       "      <td>NaN</td>\n",
       "      <td>MCFC</td>\n",
       "    </tr>\n",
       "    <tr>\n",
       "      <th>2490</th>\n",
       "      <td>2490</td>\n",
       "      <td>Apparently this kit is real. Thoughts?</td>\n",
       "      <td>NaN</td>\n",
       "      <td>MCFC</td>\n",
       "    </tr>\n",
       "    <tr>\n",
       "      <th>2491</th>\n",
       "      <td>2491</td>\n",
       "      <td>This picture of KDB with the baby filter is to...</td>\n",
       "      <td>NaN</td>\n",
       "      <td>MCFC</td>\n",
       "    </tr>\n",
       "  </tbody>\n",
       "</table>\n",
       "</div>"
      ],
      "text/plain": [
       "      Unnamed: 0                                              title posts  \\\n",
       "2487        2487  Bruno fernandes: “I said that I would leave Sp...   NaN   \n",
       "2488        2488  Sam Lee: \"City will have contract talks with S...   NaN   \n",
       "2489        2489  David Silva has been offered a £12M tax-free o...   NaN   \n",
       "2490        2490             Apparently this kit is real. Thoughts?   NaN   \n",
       "2491        2491  This picture of KDB with the baby filter is to...   NaN   \n",
       "\n",
       "     subreddit  \n",
       "2487      MCFC  \n",
       "2488      MCFC  \n",
       "2489      MCFC  \n",
       "2490      MCFC  \n",
       "2491      MCFC  "
      ]
     },
     "execution_count": 5,
     "metadata": {},
     "output_type": "execute_result"
    }
   ],
   "source": [
    "manc.tail()"
   ]
  },
  {
   "cell_type": "code",
   "execution_count": 6,
   "metadata": {},
   "outputs": [
    {
     "data": {
      "text/plain": [
       "Unnamed: 0       0\n",
       "title            0\n",
       "posts         3578\n",
       "subreddit        0\n",
       "dtype: int64"
      ]
     },
     "execution_count": 6,
     "metadata": {},
     "output_type": "execute_result"
    }
   ],
   "source": [
    "# Checking the null values across the columns \n",
    "manc.isnull().sum()"
   ]
  },
  {
   "cell_type": "markdown",
   "metadata": {},
   "source": [
    "There are far too many nulls in this dataset, I will check the distribution of these nulls to see what the appropriate action should be."
   ]
  },
  {
   "cell_type": "code",
   "execution_count": 7,
   "metadata": {},
   "outputs": [
    {
     "data": {
      "text/plain": [
       "(4949, 4)"
      ]
     },
     "execution_count": 7,
     "metadata": {},
     "output_type": "execute_result"
    }
   ],
   "source": [
    "# Checking the structure of the new dataframe\n",
    "manc.shape\n"
   ]
  },
  {
   "cell_type": "code",
   "execution_count": 8,
   "metadata": {},
   "outputs": [],
   "source": [
    "# Resetting the index to reflect the combined dataframe\n",
    "manc.reset_index(inplace = True)"
   ]
  },
  {
   "cell_type": "code",
   "execution_count": 9,
   "metadata": {},
   "outputs": [
    {
     "data": {
      "text/html": [
       "<div>\n",
       "<style scoped>\n",
       "    .dataframe tbody tr th:only-of-type {\n",
       "        vertical-align: middle;\n",
       "    }\n",
       "\n",
       "    .dataframe tbody tr th {\n",
       "        vertical-align: top;\n",
       "    }\n",
       "\n",
       "    .dataframe thead th {\n",
       "        text-align: right;\n",
       "    }\n",
       "</style>\n",
       "<table border=\"1\" class=\"dataframe\">\n",
       "  <thead>\n",
       "    <tr style=\"text-align: right;\">\n",
       "      <th></th>\n",
       "      <th>index</th>\n",
       "      <th>Unnamed: 0</th>\n",
       "      <th>title</th>\n",
       "      <th>posts</th>\n",
       "      <th>subreddit</th>\n",
       "    </tr>\n",
       "  </thead>\n",
       "  <tbody>\n",
       "    <tr>\n",
       "      <th>0</th>\n",
       "      <td>0</td>\n",
       "      <td>0</td>\n",
       "      <td>[Transfer Round Up &amp;amp; Discussion] [2019-07-11]</td>\n",
       "      <td>**It's r/reddevils' 7th summer transfer window...</td>\n",
       "      <td>reddevils</td>\n",
       "    </tr>\n",
       "    <tr>\n",
       "      <th>1</th>\n",
       "      <td>1</td>\n",
       "      <td>1</td>\n",
       "      <td>[Transfer Round Up &amp;amp; Discussion] [2019-07-12]</td>\n",
       "      <td>**It's r/reddevils' 7th summer transfer window...</td>\n",
       "      <td>reddevils</td>\n",
       "    </tr>\n",
       "    <tr>\n",
       "      <th>2</th>\n",
       "      <td>2</td>\n",
       "      <td>2</td>\n",
       "      <td>Happy Birthday Luke Shaw</td>\n",
       "      <td>NaN</td>\n",
       "      <td>reddevils</td>\n",
       "    </tr>\n",
       "    <tr>\n",
       "      <th>3</th>\n",
       "      <td>3</td>\n",
       "      <td>3</td>\n",
       "      <td>[Di Marzio] United ready to offer €80 mill for...</td>\n",
       "      <td>NaN</td>\n",
       "      <td>reddevils</td>\n",
       "    </tr>\n",
       "    <tr>\n",
       "      <th>4</th>\n",
       "      <td>4</td>\n",
       "      <td>4</td>\n",
       "      <td>United set the value of Romelu Lukaku at €85m ...</td>\n",
       "      <td>NaN</td>\n",
       "      <td>reddevils</td>\n",
       "    </tr>\n",
       "  </tbody>\n",
       "</table>\n",
       "</div>"
      ],
      "text/plain": [
       "   index  Unnamed: 0                                              title  \\\n",
       "0      0           0  [Transfer Round Up &amp; Discussion] [2019-07-11]   \n",
       "1      1           1  [Transfer Round Up &amp; Discussion] [2019-07-12]   \n",
       "2      2           2                           Happy Birthday Luke Shaw   \n",
       "3      3           3  [Di Marzio] United ready to offer €80 mill for...   \n",
       "4      4           4  United set the value of Romelu Lukaku at €85m ...   \n",
       "\n",
       "                                               posts  subreddit  \n",
       "0  **It's r/reddevils' 7th summer transfer window...  reddevils  \n",
       "1  **It's r/reddevils' 7th summer transfer window...  reddevils  \n",
       "2                                                NaN  reddevils  \n",
       "3                                                NaN  reddevils  \n",
       "4                                                NaN  reddevils  "
      ]
     },
     "execution_count": 9,
     "metadata": {},
     "output_type": "execute_result"
    }
   ],
   "source": [
    "manc.head()"
   ]
  },
  {
   "cell_type": "code",
   "execution_count": 10,
   "metadata": {},
   "outputs": [
    {
     "data": {
      "text/html": [
       "<div>\n",
       "<style scoped>\n",
       "    .dataframe tbody tr th:only-of-type {\n",
       "        vertical-align: middle;\n",
       "    }\n",
       "\n",
       "    .dataframe tbody tr th {\n",
       "        vertical-align: top;\n",
       "    }\n",
       "\n",
       "    .dataframe thead th {\n",
       "        text-align: right;\n",
       "    }\n",
       "</style>\n",
       "<table border=\"1\" class=\"dataframe\">\n",
       "  <thead>\n",
       "    <tr style=\"text-align: right;\">\n",
       "      <th></th>\n",
       "      <th>index</th>\n",
       "      <th>Unnamed: 0</th>\n",
       "      <th>title</th>\n",
       "      <th>posts</th>\n",
       "      <th>subreddit</th>\n",
       "    </tr>\n",
       "  </thead>\n",
       "  <tbody>\n",
       "    <tr>\n",
       "      <th>4944</th>\n",
       "      <td>2487</td>\n",
       "      <td>2487</td>\n",
       "      <td>Bruno fernandes: “I said that I would leave Sp...</td>\n",
       "      <td>NaN</td>\n",
       "      <td>MCFC</td>\n",
       "    </tr>\n",
       "    <tr>\n",
       "      <th>4945</th>\n",
       "      <td>2488</td>\n",
       "      <td>2488</td>\n",
       "      <td>Sam Lee: \"City will have contract talks with S...</td>\n",
       "      <td>NaN</td>\n",
       "      <td>MCFC</td>\n",
       "    </tr>\n",
       "    <tr>\n",
       "      <th>4946</th>\n",
       "      <td>2489</td>\n",
       "      <td>2489</td>\n",
       "      <td>David Silva has been offered a £12M tax-free o...</td>\n",
       "      <td>NaN</td>\n",
       "      <td>MCFC</td>\n",
       "    </tr>\n",
       "    <tr>\n",
       "      <th>4947</th>\n",
       "      <td>2490</td>\n",
       "      <td>2490</td>\n",
       "      <td>Apparently this kit is real. Thoughts?</td>\n",
       "      <td>NaN</td>\n",
       "      <td>MCFC</td>\n",
       "    </tr>\n",
       "    <tr>\n",
       "      <th>4948</th>\n",
       "      <td>2491</td>\n",
       "      <td>2491</td>\n",
       "      <td>This picture of KDB with the baby filter is to...</td>\n",
       "      <td>NaN</td>\n",
       "      <td>MCFC</td>\n",
       "    </tr>\n",
       "  </tbody>\n",
       "</table>\n",
       "</div>"
      ],
      "text/plain": [
       "      index  Unnamed: 0                                              title  \\\n",
       "4944   2487        2487  Bruno fernandes: “I said that I would leave Sp...   \n",
       "4945   2488        2488  Sam Lee: \"City will have contract talks with S...   \n",
       "4946   2489        2489  David Silva has been offered a £12M tax-free o...   \n",
       "4947   2490        2490             Apparently this kit is real. Thoughts?   \n",
       "4948   2491        2491  This picture of KDB with the baby filter is to...   \n",
       "\n",
       "     posts subreddit  \n",
       "4944   NaN      MCFC  \n",
       "4945   NaN      MCFC  \n",
       "4946   NaN      MCFC  \n",
       "4947   NaN      MCFC  \n",
       "4948   NaN      MCFC  "
      ]
     },
     "execution_count": 10,
     "metadata": {},
     "output_type": "execute_result"
    }
   ],
   "source": [
    "manc.tail()"
   ]
  },
  {
   "cell_type": "code",
   "execution_count": 11,
   "metadata": {},
   "outputs": [],
   "source": [
    "# Saving new dataframe\n",
    "# manc.to_csv('manc_df.csv')"
   ]
  },
  {
   "cell_type": "code",
   "execution_count": 12,
   "metadata": {},
   "outputs": [
    {
     "data": {
      "text/plain": [
       "Index(['index', 'Unnamed: 0', 'title', 'posts', 'subreddit'], dtype='object')"
      ]
     },
     "execution_count": 12,
     "metadata": {},
     "output_type": "execute_result"
    }
   ],
   "source": [
    "manc.columns"
   ]
  },
  {
   "cell_type": "code",
   "execution_count": 13,
   "metadata": {},
   "outputs": [
    {
     "data": {
      "text/plain": [
       "MCFC         2492\n",
       "reddevils    2457\n",
       "Name: subreddit, dtype: int64"
      ]
     },
     "execution_count": 13,
     "metadata": {},
     "output_type": "execute_result"
    }
   ],
   "source": [
    "# Checking the distribution of subreddits\n",
    "manc['subreddit'].value_counts()"
   ]
  },
  {
   "cell_type": "code",
   "execution_count": 14,
   "metadata": {},
   "outputs": [
    {
     "data": {
      "text/plain": [
       "index            0\n",
       "Unnamed: 0       0\n",
       "title            0\n",
       "posts         1868\n",
       "subreddit        0\n",
       "dtype: int64"
      ]
     },
     "execution_count": 14,
     "metadata": {},
     "output_type": "execute_result"
    }
   ],
   "source": [
    "# Checking null columns across each subreddit\n",
    "manc[manc['subreddit'] == 'MCFC'].isnull().sum() "
   ]
  },
  {
   "cell_type": "code",
   "execution_count": 15,
   "metadata": {},
   "outputs": [
    {
     "data": {
      "text/plain": [
       "index            0\n",
       "Unnamed: 0       0\n",
       "title            0\n",
       "posts         1710\n",
       "subreddit        0\n",
       "dtype: int64"
      ]
     },
     "execution_count": 15,
     "metadata": {},
     "output_type": "execute_result"
    }
   ],
   "source": [
    "manc[manc['subreddit'] == 'reddevils'].isnull().sum() "
   ]
  },
  {
   "cell_type": "markdown",
   "metadata": {},
   "source": [
    "I have decided to delete the rows with nulls in the posts column as the distribution of those nulls would not make my final dataset as unbalanced as I feared initially. I believe I would still be able to conduct good analysis with the data on hand without these rows."
   ]
  },
  {
   "cell_type": "code",
   "execution_count": 16,
   "metadata": {},
   "outputs": [],
   "source": [
    "# Dropping the rows that had null values\n",
    "manc.dropna(inplace = True)"
   ]
  },
  {
   "cell_type": "code",
   "execution_count": 17,
   "metadata": {},
   "outputs": [],
   "source": [
    "# Creating dummy values in subreddit column, assigning MCFC as 1:\n",
    "manc['subreddit'] = manc['subreddit'].map({'MCFC': 1, 'reddevils': 0})"
   ]
  },
  {
   "cell_type": "code",
   "execution_count": 18,
   "metadata": {},
   "outputs": [
    {
     "data": {
      "text/html": [
       "<div>\n",
       "<style scoped>\n",
       "    .dataframe tbody tr th:only-of-type {\n",
       "        vertical-align: middle;\n",
       "    }\n",
       "\n",
       "    .dataframe tbody tr th {\n",
       "        vertical-align: top;\n",
       "    }\n",
       "\n",
       "    .dataframe thead th {\n",
       "        text-align: right;\n",
       "    }\n",
       "</style>\n",
       "<table border=\"1\" class=\"dataframe\">\n",
       "  <thead>\n",
       "    <tr style=\"text-align: right;\">\n",
       "      <th></th>\n",
       "      <th>index</th>\n",
       "      <th>Unnamed: 0</th>\n",
       "      <th>title</th>\n",
       "      <th>posts</th>\n",
       "      <th>subreddit</th>\n",
       "    </tr>\n",
       "  </thead>\n",
       "  <tbody>\n",
       "    <tr>\n",
       "      <th>0</th>\n",
       "      <td>0</td>\n",
       "      <td>0</td>\n",
       "      <td>[Transfer Round Up &amp;amp; Discussion] [2019-07-11]</td>\n",
       "      <td>**It's r/reddevils' 7th summer transfer window...</td>\n",
       "      <td>0</td>\n",
       "    </tr>\n",
       "    <tr>\n",
       "      <th>1</th>\n",
       "      <td>1</td>\n",
       "      <td>1</td>\n",
       "      <td>[Transfer Round Up &amp;amp; Discussion] [2019-07-12]</td>\n",
       "      <td>**It's r/reddevils' 7th summer transfer window...</td>\n",
       "      <td>0</td>\n",
       "    </tr>\n",
       "    <tr>\n",
       "      <th>30</th>\n",
       "      <td>30</td>\n",
       "      <td>30</td>\n",
       "      <td>Have clubs always made it this difficult to si...</td>\n",
       "      <td>My first transfer window fully obsessed (thank...</td>\n",
       "      <td>0</td>\n",
       "    </tr>\n",
       "    <tr>\n",
       "      <th>43</th>\n",
       "      <td>43</td>\n",
       "      <td>43</td>\n",
       "      <td>Free Talk Friday</td>\n",
       "      <td>Whats the craic?</td>\n",
       "      <td>0</td>\n",
       "    </tr>\n",
       "    <tr>\n",
       "      <th>45</th>\n",
       "      <td>45</td>\n",
       "      <td>45</td>\n",
       "      <td>Daily Discussion [2019-07-11]</td>\n",
       "      <td>Daily discussion on Manchester United.</td>\n",
       "      <td>0</td>\n",
       "    </tr>\n",
       "  </tbody>\n",
       "</table>\n",
       "</div>"
      ],
      "text/plain": [
       "    index  Unnamed: 0                                              title  \\\n",
       "0       0           0  [Transfer Round Up &amp; Discussion] [2019-07-11]   \n",
       "1       1           1  [Transfer Round Up &amp; Discussion] [2019-07-12]   \n",
       "30     30          30  Have clubs always made it this difficult to si...   \n",
       "43     43          43                                   Free Talk Friday   \n",
       "45     45          45                      Daily Discussion [2019-07-11]   \n",
       "\n",
       "                                                posts  subreddit  \n",
       "0   **It's r/reddevils' 7th summer transfer window...          0  \n",
       "1   **It's r/reddevils' 7th summer transfer window...          0  \n",
       "30  My first transfer window fully obsessed (thank...          0  \n",
       "43                                   Whats the craic?          0  \n",
       "45             Daily discussion on Manchester United.          0  "
      ]
     },
     "execution_count": 18,
     "metadata": {},
     "output_type": "execute_result"
    }
   ],
   "source": [
    "manc.head()"
   ]
  },
  {
   "cell_type": "code",
   "execution_count": 19,
   "metadata": {},
   "outputs": [
    {
     "data": {
      "text/plain": [
       "index          int64\n",
       "Unnamed: 0     int64\n",
       "title         object\n",
       "posts         object\n",
       "subreddit      int64\n",
       "dtype: object"
      ]
     },
     "execution_count": 19,
     "metadata": {},
     "output_type": "execute_result"
    }
   ],
   "source": [
    "# Checking the data types of the columns \n",
    "manc.dtypes"
   ]
  },
  {
   "cell_type": "code",
   "execution_count": 20,
   "metadata": {},
   "outputs": [],
   "source": [
    "# Resetting the index to reflect the true order of the partially cleaned combined dataframes \n",
    "manc.reset_index(inplace = True)"
   ]
  },
  {
   "cell_type": "code",
   "execution_count": 21,
   "metadata": {},
   "outputs": [
    {
     "data": {
      "text/plain": [
       "0    747\n",
       "1    624\n",
       "Name: subreddit, dtype: int64"
      ]
     },
     "execution_count": 21,
     "metadata": {},
     "output_type": "execute_result"
    }
   ],
   "source": [
    "manc['subreddit'].value_counts()"
   ]
  },
  {
   "cell_type": "code",
   "execution_count": 22,
   "metadata": {},
   "outputs": [
    {
     "data": {
      "text/plain": [
       "0.4551422319474836"
      ]
     },
     "execution_count": 22,
     "metadata": {},
     "output_type": "execute_result"
    }
   ],
   "source": [
    "# MCFC subreddit % of posts:\n",
    "\n",
    "624/(747+624)"
   ]
  },
  {
   "cell_type": "markdown",
   "metadata": {},
   "source": [
    "We've ended up with a 45.5% and 54.5% split between the MCFC and Reddevil subreddits respectively. "
   ]
  },
  {
   "cell_type": "code",
   "execution_count": 23,
   "metadata": {},
   "outputs": [
    {
     "data": {
      "text/plain": [
       "(1371, 6)"
      ]
     },
     "execution_count": 23,
     "metadata": {},
     "output_type": "execute_result"
    }
   ],
   "source": [
    "manc.shape"
   ]
  },
  {
   "cell_type": "markdown",
   "metadata": {},
   "source": [
    "I believe a total of 1,371 posts  with the distribution described above is enough to conduct the analysis I want."
   ]
  },
  {
   "cell_type": "code",
   "execution_count": 24,
   "metadata": {},
   "outputs": [
    {
     "data": {
      "text/html": [
       "<div>\n",
       "<style scoped>\n",
       "    .dataframe tbody tr th:only-of-type {\n",
       "        vertical-align: middle;\n",
       "    }\n",
       "\n",
       "    .dataframe tbody tr th {\n",
       "        vertical-align: top;\n",
       "    }\n",
       "\n",
       "    .dataframe thead th {\n",
       "        text-align: right;\n",
       "    }\n",
       "</style>\n",
       "<table border=\"1\" class=\"dataframe\">\n",
       "  <thead>\n",
       "    <tr style=\"text-align: right;\">\n",
       "      <th></th>\n",
       "      <th>level_0</th>\n",
       "      <th>index</th>\n",
       "      <th>Unnamed: 0</th>\n",
       "      <th>title</th>\n",
       "      <th>posts</th>\n",
       "      <th>subreddit</th>\n",
       "    </tr>\n",
       "  </thead>\n",
       "  <tbody>\n",
       "    <tr>\n",
       "      <th>0</th>\n",
       "      <td>0</td>\n",
       "      <td>0</td>\n",
       "      <td>0</td>\n",
       "      <td>[Transfer Round Up &amp;amp; Discussion] [2019-07-11]</td>\n",
       "      <td>**It's r/reddevils' 7th summer transfer window...</td>\n",
       "      <td>0</td>\n",
       "    </tr>\n",
       "    <tr>\n",
       "      <th>1</th>\n",
       "      <td>1</td>\n",
       "      <td>1</td>\n",
       "      <td>1</td>\n",
       "      <td>[Transfer Round Up &amp;amp; Discussion] [2019-07-12]</td>\n",
       "      <td>**It's r/reddevils' 7th summer transfer window...</td>\n",
       "      <td>0</td>\n",
       "    </tr>\n",
       "    <tr>\n",
       "      <th>2</th>\n",
       "      <td>30</td>\n",
       "      <td>30</td>\n",
       "      <td>30</td>\n",
       "      <td>Have clubs always made it this difficult to si...</td>\n",
       "      <td>My first transfer window fully obsessed (thank...</td>\n",
       "      <td>0</td>\n",
       "    </tr>\n",
       "    <tr>\n",
       "      <th>3</th>\n",
       "      <td>43</td>\n",
       "      <td>43</td>\n",
       "      <td>43</td>\n",
       "      <td>Free Talk Friday</td>\n",
       "      <td>Whats the craic?</td>\n",
       "      <td>0</td>\n",
       "    </tr>\n",
       "    <tr>\n",
       "      <th>4</th>\n",
       "      <td>45</td>\n",
       "      <td>45</td>\n",
       "      <td>45</td>\n",
       "      <td>Daily Discussion [2019-07-11]</td>\n",
       "      <td>Daily discussion on Manchester United.</td>\n",
       "      <td>0</td>\n",
       "    </tr>\n",
       "  </tbody>\n",
       "</table>\n",
       "</div>"
      ],
      "text/plain": [
       "   level_0  index  Unnamed: 0  \\\n",
       "0        0      0           0   \n",
       "1        1      1           1   \n",
       "2       30     30          30   \n",
       "3       43     43          43   \n",
       "4       45     45          45   \n",
       "\n",
       "                                               title  \\\n",
       "0  [Transfer Round Up &amp; Discussion] [2019-07-11]   \n",
       "1  [Transfer Round Up &amp; Discussion] [2019-07-12]   \n",
       "2  Have clubs always made it this difficult to si...   \n",
       "3                                   Free Talk Friday   \n",
       "4                      Daily Discussion [2019-07-11]   \n",
       "\n",
       "                                               posts  subreddit  \n",
       "0  **It's r/reddevils' 7th summer transfer window...          0  \n",
       "1  **It's r/reddevils' 7th summer transfer window...          0  \n",
       "2  My first transfer window fully obsessed (thank...          0  \n",
       "3                                   Whats the craic?          0  \n",
       "4             Daily discussion on Manchester United.          0  "
      ]
     },
     "execution_count": 24,
     "metadata": {},
     "output_type": "execute_result"
    }
   ],
   "source": [
    "manc.head()"
   ]
  },
  {
   "cell_type": "code",
   "execution_count": 25,
   "metadata": {},
   "outputs": [],
   "source": [
    "# Dropping unnecessary columns:\n",
    "manc.drop(['Unnamed: 0', 'level_0'], axis = 1, inplace=True)"
   ]
  },
  {
   "cell_type": "code",
   "execution_count": 26,
   "metadata": {},
   "outputs": [
    {
     "data": {
      "text/html": [
       "<div>\n",
       "<style scoped>\n",
       "    .dataframe tbody tr th:only-of-type {\n",
       "        vertical-align: middle;\n",
       "    }\n",
       "\n",
       "    .dataframe tbody tr th {\n",
       "        vertical-align: top;\n",
       "    }\n",
       "\n",
       "    .dataframe thead th {\n",
       "        text-align: right;\n",
       "    }\n",
       "</style>\n",
       "<table border=\"1\" class=\"dataframe\">\n",
       "  <thead>\n",
       "    <tr style=\"text-align: right;\">\n",
       "      <th></th>\n",
       "      <th>index</th>\n",
       "      <th>title</th>\n",
       "      <th>posts</th>\n",
       "      <th>subreddit</th>\n",
       "    </tr>\n",
       "  </thead>\n",
       "  <tbody>\n",
       "    <tr>\n",
       "      <th>1366</th>\n",
       "      <td>2477</td>\n",
       "      <td>Would you be happy if City spent more than 100...</td>\n",
       "      <td>I know we are labelled as the big spenders but...</td>\n",
       "      <td>1</td>\n",
       "    </tr>\n",
       "    <tr>\n",
       "      <th>1367</th>\n",
       "      <td>2478</td>\n",
       "      <td>City abroad</td>\n",
       "      <td>So i have been living abroad for over a year a...</td>\n",
       "      <td>1</td>\n",
       "    </tr>\n",
       "    <tr>\n",
       "      <th>1368</th>\n",
       "      <td>2479</td>\n",
       "      <td>Can we dead the whining?</td>\n",
       "      <td>We’ve just won the domestic treble, had the be...</td>\n",
       "      <td>1</td>\n",
       "    </tr>\n",
       "    <tr>\n",
       "      <th>1369</th>\n",
       "      <td>2480</td>\n",
       "      <td>Shirts for dogs</td>\n",
       "      <td>Looking to get a home shirt for my pup. She's ...</td>\n",
       "      <td>1</td>\n",
       "    </tr>\n",
       "    <tr>\n",
       "      <th>1370</th>\n",
       "      <td>2481</td>\n",
       "      <td>IF sane leaves, do we sign a winger or midfiel...</td>\n",
       "      <td>As the title says. We're at a point now here s...</td>\n",
       "      <td>1</td>\n",
       "    </tr>\n",
       "  </tbody>\n",
       "</table>\n",
       "</div>"
      ],
      "text/plain": [
       "      index                                              title  \\\n",
       "1366   2477  Would you be happy if City spent more than 100...   \n",
       "1367   2478                                        City abroad   \n",
       "1368   2479                           Can we dead the whining?   \n",
       "1369   2480                                    Shirts for dogs   \n",
       "1370   2481  IF sane leaves, do we sign a winger or midfiel...   \n",
       "\n",
       "                                                  posts  subreddit  \n",
       "1366  I know we are labelled as the big spenders but...          1  \n",
       "1367  So i have been living abroad for over a year a...          1  \n",
       "1368  We’ve just won the domestic treble, had the be...          1  \n",
       "1369  Looking to get a home shirt for my pup. She's ...          1  \n",
       "1370  As the title says. We're at a point now here s...          1  "
      ]
     },
     "execution_count": 26,
     "metadata": {},
     "output_type": "execute_result"
    }
   ],
   "source": [
    "manc.tail()"
   ]
  },
  {
   "cell_type": "code",
   "execution_count": 27,
   "metadata": {},
   "outputs": [
    {
     "data": {
      "text/html": [
       "<div>\n",
       "<style scoped>\n",
       "    .dataframe tbody tr th:only-of-type {\n",
       "        vertical-align: middle;\n",
       "    }\n",
       "\n",
       "    .dataframe tbody tr th {\n",
       "        vertical-align: top;\n",
       "    }\n",
       "\n",
       "    .dataframe thead th {\n",
       "        text-align: right;\n",
       "    }\n",
       "</style>\n",
       "<table border=\"1\" class=\"dataframe\">\n",
       "  <thead>\n",
       "    <tr style=\"text-align: right;\">\n",
       "      <th></th>\n",
       "      <th>index</th>\n",
       "      <th>subreddit</th>\n",
       "    </tr>\n",
       "  </thead>\n",
       "  <tbody>\n",
       "    <tr>\n",
       "      <th>count</th>\n",
       "      <td>1371.000000</td>\n",
       "      <td>1371.000000</td>\n",
       "    </tr>\n",
       "    <tr>\n",
       "      <th>mean</th>\n",
       "      <td>1240.385120</td>\n",
       "      <td>0.455142</td>\n",
       "    </tr>\n",
       "    <tr>\n",
       "      <th>std</th>\n",
       "      <td>711.746142</td>\n",
       "      <td>0.498165</td>\n",
       "    </tr>\n",
       "    <tr>\n",
       "      <th>min</th>\n",
       "      <td>0.000000</td>\n",
       "      <td>0.000000</td>\n",
       "    </tr>\n",
       "    <tr>\n",
       "      <th>25%</th>\n",
       "      <td>613.000000</td>\n",
       "      <td>0.000000</td>\n",
       "    </tr>\n",
       "    <tr>\n",
       "      <th>50%</th>\n",
       "      <td>1236.000000</td>\n",
       "      <td>0.000000</td>\n",
       "    </tr>\n",
       "    <tr>\n",
       "      <th>75%</th>\n",
       "      <td>1862.000000</td>\n",
       "      <td>1.000000</td>\n",
       "    </tr>\n",
       "    <tr>\n",
       "      <th>max</th>\n",
       "      <td>2481.000000</td>\n",
       "      <td>1.000000</td>\n",
       "    </tr>\n",
       "  </tbody>\n",
       "</table>\n",
       "</div>"
      ],
      "text/plain": [
       "             index    subreddit\n",
       "count  1371.000000  1371.000000\n",
       "mean   1240.385120     0.455142\n",
       "std     711.746142     0.498165\n",
       "min       0.000000     0.000000\n",
       "25%     613.000000     0.000000\n",
       "50%    1236.000000     0.000000\n",
       "75%    1862.000000     1.000000\n",
       "max    2481.000000     1.000000"
      ]
     },
     "execution_count": 27,
     "metadata": {},
     "output_type": "execute_result"
    }
   ],
   "source": [
    "manc.describe()"
   ]
  },
  {
   "cell_type": "code",
   "execution_count": 28,
   "metadata": {},
   "outputs": [],
   "source": [
    "# Renaming the target column:\n",
    "manc.rename(columns = {'subreddit': 'is_MCFC'}, inplace=True)"
   ]
  },
  {
   "cell_type": "code",
   "execution_count": 29,
   "metadata": {},
   "outputs": [
    {
     "data": {
      "text/html": [
       "<div>\n",
       "<style scoped>\n",
       "    .dataframe tbody tr th:only-of-type {\n",
       "        vertical-align: middle;\n",
       "    }\n",
       "\n",
       "    .dataframe tbody tr th {\n",
       "        vertical-align: top;\n",
       "    }\n",
       "\n",
       "    .dataframe thead th {\n",
       "        text-align: right;\n",
       "    }\n",
       "</style>\n",
       "<table border=\"1\" class=\"dataframe\">\n",
       "  <thead>\n",
       "    <tr style=\"text-align: right;\">\n",
       "      <th></th>\n",
       "      <th>index</th>\n",
       "      <th>title</th>\n",
       "      <th>posts</th>\n",
       "      <th>is_MCFC</th>\n",
       "    </tr>\n",
       "  </thead>\n",
       "  <tbody>\n",
       "    <tr>\n",
       "      <th>0</th>\n",
       "      <td>0</td>\n",
       "      <td>[Transfer Round Up &amp;amp; Discussion] [2019-07-11]</td>\n",
       "      <td>**It's r/reddevils' 7th summer transfer window...</td>\n",
       "      <td>0</td>\n",
       "    </tr>\n",
       "    <tr>\n",
       "      <th>1</th>\n",
       "      <td>1</td>\n",
       "      <td>[Transfer Round Up &amp;amp; Discussion] [2019-07-12]</td>\n",
       "      <td>**It's r/reddevils' 7th summer transfer window...</td>\n",
       "      <td>0</td>\n",
       "    </tr>\n",
       "    <tr>\n",
       "      <th>2</th>\n",
       "      <td>30</td>\n",
       "      <td>Have clubs always made it this difficult to si...</td>\n",
       "      <td>My first transfer window fully obsessed (thank...</td>\n",
       "      <td>0</td>\n",
       "    </tr>\n",
       "    <tr>\n",
       "      <th>3</th>\n",
       "      <td>43</td>\n",
       "      <td>Free Talk Friday</td>\n",
       "      <td>Whats the craic?</td>\n",
       "      <td>0</td>\n",
       "    </tr>\n",
       "    <tr>\n",
       "      <th>4</th>\n",
       "      <td>45</td>\n",
       "      <td>Daily Discussion [2019-07-11]</td>\n",
       "      <td>Daily discussion on Manchester United.</td>\n",
       "      <td>0</td>\n",
       "    </tr>\n",
       "  </tbody>\n",
       "</table>\n",
       "</div>"
      ],
      "text/plain": [
       "   index                                              title  \\\n",
       "0      0  [Transfer Round Up &amp; Discussion] [2019-07-11]   \n",
       "1      1  [Transfer Round Up &amp; Discussion] [2019-07-12]   \n",
       "2     30  Have clubs always made it this difficult to si...   \n",
       "3     43                                   Free Talk Friday   \n",
       "4     45                      Daily Discussion [2019-07-11]   \n",
       "\n",
       "                                               posts  is_MCFC  \n",
       "0  **It's r/reddevils' 7th summer transfer window...        0  \n",
       "1  **It's r/reddevils' 7th summer transfer window...        0  \n",
       "2  My first transfer window fully obsessed (thank...        0  \n",
       "3                                   Whats the craic?        0  \n",
       "4             Daily discussion on Manchester United.        0  "
      ]
     },
     "execution_count": 29,
     "metadata": {},
     "output_type": "execute_result"
    }
   ],
   "source": [
    "manc.head()"
   ]
  },
  {
   "cell_type": "markdown",
   "metadata": {},
   "source": [
    "***Data Cleaning***"
   ]
  },
  {
   "cell_type": "code",
   "execution_count": 30,
   "metadata": {},
   "outputs": [],
   "source": [
    "# Using regex to clean the title and posts columns of special characters in order to detect patterns \n",
    "manc['title'] = manc.title.map(lambda x: re.sub('\\s[\\/]&?r\\/[^s]+', ' ', x))\n",
    "manc['title'] = manc.title.map(lambda x: re.sub('http[s]?:\\/\\/[^\\s]*', ' ', x))\n",
    "manc['title'] = manc.title.map(lambda x: re.sub(r'\\[(?:[^\\]|]*\\|)?([^\\]|]*)\\]', r'\\1', x))\n",
    "manc['title'] = manc.title.map(lambda x: re.sub(r'[^\\w]', ' ', x))"
   ]
  },
  {
   "cell_type": "code",
   "execution_count": 31,
   "metadata": {},
   "outputs": [],
   "source": [
    "manc['posts'] = manc.posts.map(lambda x: re.sub('\\s[\\/]?r\\/[^s]+', ' ', x))\n",
    "manc['posts'] = manc.posts.map(lambda x: re.sub('http[s]?:\\/\\/[^\\s]*', ' ', x))\n",
    "manc['posts'] = manc.posts.map(lambda x: re.sub(r'\\[(?:[^\\]|]*\\|)?([^\\]|]*)\\]', r'\\1', x))\n",
    "manc['posts'] = manc.posts.map(lambda x: re.sub(r'[^\\w]', ' ', x))\n",
    "\n"
   ]
  },
  {
   "cell_type": "code",
   "execution_count": 32,
   "metadata": {},
   "outputs": [
    {
     "data": {
      "text/html": [
       "<div>\n",
       "<style scoped>\n",
       "    .dataframe tbody tr th:only-of-type {\n",
       "        vertical-align: middle;\n",
       "    }\n",
       "\n",
       "    .dataframe tbody tr th {\n",
       "        vertical-align: top;\n",
       "    }\n",
       "\n",
       "    .dataframe thead th {\n",
       "        text-align: right;\n",
       "    }\n",
       "</style>\n",
       "<table border=\"1\" class=\"dataframe\">\n",
       "  <thead>\n",
       "    <tr style=\"text-align: right;\">\n",
       "      <th></th>\n",
       "      <th>index</th>\n",
       "      <th>title</th>\n",
       "      <th>posts</th>\n",
       "      <th>is_MCFC</th>\n",
       "    </tr>\n",
       "  </thead>\n",
       "  <tbody>\n",
       "    <tr>\n",
       "      <th>0</th>\n",
       "      <td>0</td>\n",
       "      <td>Transfer Round Up  amp  Discussion 2019 07 11</td>\n",
       "      <td>It s s  7th summer transfer window review   ...</td>\n",
       "      <td>0</td>\n",
       "    </tr>\n",
       "    <tr>\n",
       "      <th>1</th>\n",
       "      <td>1</td>\n",
       "      <td>Transfer Round Up  amp  Discussion 2019 07 12</td>\n",
       "      <td>It s s  7th summer transfer window review   ...</td>\n",
       "      <td>0</td>\n",
       "    </tr>\n",
       "    <tr>\n",
       "      <th>2</th>\n",
       "      <td>30</td>\n",
       "      <td>Have clubs always made it this difficult to si...</td>\n",
       "      <td>My first transfer window fully obsessed  thank...</td>\n",
       "      <td>0</td>\n",
       "    </tr>\n",
       "    <tr>\n",
       "      <th>3</th>\n",
       "      <td>43</td>\n",
       "      <td>Free Talk Friday</td>\n",
       "      <td>Whats the craic</td>\n",
       "      <td>0</td>\n",
       "    </tr>\n",
       "    <tr>\n",
       "      <th>4</th>\n",
       "      <td>45</td>\n",
       "      <td>Daily Discussion 2019 07 11</td>\n",
       "      <td>Daily discussion on Manchester United</td>\n",
       "      <td>0</td>\n",
       "    </tr>\n",
       "  </tbody>\n",
       "</table>\n",
       "</div>"
      ],
      "text/plain": [
       "   index                                              title  \\\n",
       "0      0      Transfer Round Up  amp  Discussion 2019 07 11   \n",
       "1      1      Transfer Round Up  amp  Discussion 2019 07 12   \n",
       "2     30  Have clubs always made it this difficult to si...   \n",
       "3     43                                   Free Talk Friday   \n",
       "4     45                        Daily Discussion 2019 07 11   \n",
       "\n",
       "                                               posts  is_MCFC  \n",
       "0    It s s  7th summer transfer window review   ...        0  \n",
       "1    It s s  7th summer transfer window review   ...        0  \n",
       "2  My first transfer window fully obsessed  thank...        0  \n",
       "3                                   Whats the craic         0  \n",
       "4             Daily discussion on Manchester United         0  "
      ]
     },
     "execution_count": 32,
     "metadata": {},
     "output_type": "execute_result"
    }
   ],
   "source": [
    "# Checking newly cleaned dataframe\n",
    "manc.head()"
   ]
  },
  {
   "cell_type": "code",
   "execution_count": 33,
   "metadata": {},
   "outputs": [
    {
     "data": {
      "text/html": [
       "<div>\n",
       "<style scoped>\n",
       "    .dataframe tbody tr th:only-of-type {\n",
       "        vertical-align: middle;\n",
       "    }\n",
       "\n",
       "    .dataframe tbody tr th {\n",
       "        vertical-align: top;\n",
       "    }\n",
       "\n",
       "    .dataframe thead th {\n",
       "        text-align: right;\n",
       "    }\n",
       "</style>\n",
       "<table border=\"1\" class=\"dataframe\">\n",
       "  <thead>\n",
       "    <tr style=\"text-align: right;\">\n",
       "      <th></th>\n",
       "      <th>index</th>\n",
       "      <th>title</th>\n",
       "      <th>posts</th>\n",
       "      <th>is_MCFC</th>\n",
       "    </tr>\n",
       "  </thead>\n",
       "  <tbody>\n",
       "    <tr>\n",
       "      <th>1366</th>\n",
       "      <td>2477</td>\n",
       "      <td>Would you be happy if City spent more than 100...</td>\n",
       "      <td>I know we are labelled as the big spenders but...</td>\n",
       "      <td>1</td>\n",
       "    </tr>\n",
       "    <tr>\n",
       "      <th>1367</th>\n",
       "      <td>2478</td>\n",
       "      <td>City abroad</td>\n",
       "      <td>So i have been living abroad for over a year a...</td>\n",
       "      <td>1</td>\n",
       "    </tr>\n",
       "    <tr>\n",
       "      <th>1368</th>\n",
       "      <td>2479</td>\n",
       "      <td>Can we dead the whining</td>\n",
       "      <td>We ve just won the domestic treble  had the be...</td>\n",
       "      <td>1</td>\n",
       "    </tr>\n",
       "    <tr>\n",
       "      <th>1369</th>\n",
       "      <td>2480</td>\n",
       "      <td>Shirts for dogs</td>\n",
       "      <td>Looking to get a home shirt for my pup  She s ...</td>\n",
       "      <td>1</td>\n",
       "    </tr>\n",
       "    <tr>\n",
       "      <th>1370</th>\n",
       "      <td>2481</td>\n",
       "      <td>IF sane leaves  do we sign a winger or midfiel...</td>\n",
       "      <td>As the title says  We re at a point now here s...</td>\n",
       "      <td>1</td>\n",
       "    </tr>\n",
       "  </tbody>\n",
       "</table>\n",
       "</div>"
      ],
      "text/plain": [
       "      index                                              title  \\\n",
       "1366   2477  Would you be happy if City spent more than 100...   \n",
       "1367   2478                                        City abroad   \n",
       "1368   2479                           Can we dead the whining    \n",
       "1369   2480                                    Shirts for dogs   \n",
       "1370   2481  IF sane leaves  do we sign a winger or midfiel...   \n",
       "\n",
       "                                                  posts  is_MCFC  \n",
       "1366  I know we are labelled as the big spenders but...        1  \n",
       "1367  So i have been living abroad for over a year a...        1  \n",
       "1368  We ve just won the domestic treble  had the be...        1  \n",
       "1369  Looking to get a home shirt for my pup  She s ...        1  \n",
       "1370  As the title says  We re at a point now here s...        1  "
      ]
     },
     "execution_count": 33,
     "metadata": {},
     "output_type": "execute_result"
    }
   ],
   "source": [
    "manc.tail()"
   ]
  },
  {
   "cell_type": "code",
   "execution_count": 34,
   "metadata": {},
   "outputs": [
    {
     "data": {
      "image/png": "[encoded data removed]",
      "text/plain": [
       "<Figure size 360x360 with 6 Axes>"
      ]
     },
     "metadata": {
      "needs_background": "light"
     },
     "output_type": "display_data"
    }
   ],
   "source": [
    "# Setting up a pairplot to get a visual understanding of the data\n",
    "sns.pairplot(manc);"
   ]
  },
  {
   "cell_type": "code",
   "execution_count": 35,
   "metadata": {},
   "outputs": [
    {
     "data": {
      "text/plain": [
       "0        Transfer Round Up  amp  Discussion 2019 07 11\n",
       "1        Transfer Round Up  amp  Discussion 2019 07 12\n",
       "2    Have clubs always made it this difficult to si...\n",
       "3                                     Free Talk Friday\n",
       "4                          Daily Discussion 2019 07 11\n",
       "Name: title, dtype: object"
      ]
     },
     "execution_count": 35,
     "metadata": {},
     "output_type": "execute_result"
    }
   ],
   "source": [
    "manc.loc[manc['is_MCFC'] == 0, 'title'].head()"
   ]
  },
  {
   "cell_type": "code",
   "execution_count": 36,
   "metadata": {},
   "outputs": [
    {
     "data": {
      "text/plain": [
       "747    Rule Updates and Reminders   Title Formatting ...\n",
       "748               Weekly general footy discussion thread\n",
       "749    18 19 Player Reviews  A Crowdsourced Compilati...\n",
       "750                       Where to find old City scarves\n",
       "751    Aguero beat Alisson  de Gea and Lloris  all at...\n",
       "Name: title, dtype: object"
      ]
     },
     "execution_count": 36,
     "metadata": {},
     "output_type": "execute_result"
    }
   ],
   "source": [
    "manc.loc[manc['is_MCFC'] == 1, 'title'].head()"
   ]
  },
  {
   "cell_type": "markdown",
   "metadata": {},
   "source": [
    "***Preprocessing***"
   ]
  },
  {
   "cell_type": "code",
   "execution_count": 37,
   "metadata": {},
   "outputs": [],
   "source": [
    "# Preprocessing function created to get rid of unnecessary words and return a new string \n",
    "def words_from_df(initial_title):\n",
    "    \n",
    "    # Turning all words into lowercase \n",
    "    lower_words = initial_title.lower().split()\n",
    "    \n",
    "    # Instantiate and run Lemmatizer\n",
    "    lemmatizer = WordNetLemmatizer()\n",
    "    tokens_lem = [lemmatizer.lemmatize(i) for i in lower_words]\n",
    "    \n",
    "    # Remove stop words\n",
    "    stops = set(stopwords.words('english'))\n",
    "    useful_words = [w for w in lower_words if not w in stops]\n",
    "    \n",
    "    # Join into string and return the result.\n",
    "    return(\" \".join(useful_words))\n"
   ]
  },
  {
   "cell_type": "code",
   "execution_count": 38,
   "metadata": {},
   "outputs": [],
   "source": [
    "# Clean all titles and posts\n",
    "num_titles = manc.shape[0]\n",
    "new_titles = []\n",
    "new_posts = []\n",
    "\n",
    "for title in manc['title']:\n",
    "    # Convert to words, then append to new_title\n",
    "    new_titles.append(words_from_df(title))\n",
    "    \n",
    "for posts in manc['posts']:\n",
    "    # Convert to words, then append to new_posts\n",
    "    new_posts.append(words_from_df(posts))\n",
    "        "
   ]
  },
  {
   "cell_type": "code",
   "execution_count": 39,
   "metadata": {},
   "outputs": [
    {
     "data": {
      "text/html": [
       "<div>\n",
       "<style scoped>\n",
       "    .dataframe tbody tr th:only-of-type {\n",
       "        vertical-align: middle;\n",
       "    }\n",
       "\n",
       "    .dataframe tbody tr th {\n",
       "        vertical-align: top;\n",
       "    }\n",
       "\n",
       "    .dataframe thead th {\n",
       "        text-align: right;\n",
       "    }\n",
       "</style>\n",
       "<table border=\"1\" class=\"dataframe\">\n",
       "  <thead>\n",
       "    <tr style=\"text-align: right;\">\n",
       "      <th></th>\n",
       "      <th>index</th>\n",
       "      <th>title</th>\n",
       "      <th>posts</th>\n",
       "      <th>is_MCFC</th>\n",
       "      <th>new_title</th>\n",
       "      <th>new_post</th>\n",
       "    </tr>\n",
       "  </thead>\n",
       "  <tbody>\n",
       "    <tr>\n",
       "      <th>0</th>\n",
       "      <td>0</td>\n",
       "      <td>Transfer Round Up  amp  Discussion 2019 07 11</td>\n",
       "      <td>It s s  7th summer transfer window review   ...</td>\n",
       "      <td>0</td>\n",
       "      <td>transfer round amp discussion 2019 07 11</td>\n",
       "      <td>7th summer transfer window review tranfer wind...</td>\n",
       "    </tr>\n",
       "    <tr>\n",
       "      <th>1</th>\n",
       "      <td>1</td>\n",
       "      <td>Transfer Round Up  amp  Discussion 2019 07 12</td>\n",
       "      <td>It s s  7th summer transfer window review   ...</td>\n",
       "      <td>0</td>\n",
       "      <td>transfer round amp discussion 2019 07 12</td>\n",
       "      <td>7th summer transfer window review tranfer wind...</td>\n",
       "    </tr>\n",
       "    <tr>\n",
       "      <th>2</th>\n",
       "      <td>30</td>\n",
       "      <td>Have clubs always made it this difficult to si...</td>\n",
       "      <td>My first transfer window fully obsessed  thank...</td>\n",
       "      <td>0</td>\n",
       "      <td>clubs always made difficult sign players post ...</td>\n",
       "      <td>first transfer window fully obsessed thanks mu...</td>\n",
       "    </tr>\n",
       "    <tr>\n",
       "      <th>3</th>\n",
       "      <td>43</td>\n",
       "      <td>Free Talk Friday</td>\n",
       "      <td>Whats the craic</td>\n",
       "      <td>0</td>\n",
       "      <td>free talk friday</td>\n",
       "      <td>whats craic</td>\n",
       "    </tr>\n",
       "    <tr>\n",
       "      <th>4</th>\n",
       "      <td>45</td>\n",
       "      <td>Daily Discussion 2019 07 11</td>\n",
       "      <td>Daily discussion on Manchester United</td>\n",
       "      <td>0</td>\n",
       "      <td>daily discussion 2019 07 11</td>\n",
       "      <td>daily discussion manchester united</td>\n",
       "    </tr>\n",
       "  </tbody>\n",
       "</table>\n",
       "</div>"
      ],
      "text/plain": [
       "   index                                              title  \\\n",
       "0      0      Transfer Round Up  amp  Discussion 2019 07 11   \n",
       "1      1      Transfer Round Up  amp  Discussion 2019 07 12   \n",
       "2     30  Have clubs always made it this difficult to si...   \n",
       "3     43                                   Free Talk Friday   \n",
       "4     45                        Daily Discussion 2019 07 11   \n",
       "\n",
       "                                               posts  is_MCFC  \\\n",
       "0    It s s  7th summer transfer window review   ...        0   \n",
       "1    It s s  7th summer transfer window review   ...        0   \n",
       "2  My first transfer window fully obsessed  thank...        0   \n",
       "3                                   Whats the craic         0   \n",
       "4             Daily discussion on Manchester United         0   \n",
       "\n",
       "                                           new_title  \\\n",
       "0           transfer round amp discussion 2019 07 11   \n",
       "1           transfer round amp discussion 2019 07 12   \n",
       "2  clubs always made difficult sign players post ...   \n",
       "3                                   free talk friday   \n",
       "4                        daily discussion 2019 07 11   \n",
       "\n",
       "                                            new_post  \n",
       "0  7th summer transfer window review tranfer wind...  \n",
       "1  7th summer transfer window review tranfer wind...  \n",
       "2  first transfer window fully obsessed thanks mu...  \n",
       "3                                        whats craic  \n",
       "4                 daily discussion manchester united  "
      ]
     },
     "execution_count": 39,
     "metadata": {},
     "output_type": "execute_result"
    }
   ],
   "source": [
    "# Adding cleaned titles to dataframe\n",
    "manc = manc.assign(new_title = new_titles, new_post = new_posts)\n",
    "manc.head()"
   ]
  },
  {
   "cell_type": "code",
   "execution_count": 40,
   "metadata": {},
   "outputs": [],
   "source": [
    "#  Creating and saving a new dataframe with clean columns only into a new csv\n",
    "manc[['new_title', 'new_post', 'is_MCFC']].to_csv('manc_clean.csv')"
   ]
  },
  {
   "cell_type": "code",
   "execution_count": 41,
   "metadata": {},
   "outputs": [
    {
     "data": {
      "text/html": [
       "<div>\n",
       "<style scoped>\n",
       "    .dataframe tbody tr th:only-of-type {\n",
       "        vertical-align: middle;\n",
       "    }\n",
       "\n",
       "    .dataframe tbody tr th {\n",
       "        vertical-align: top;\n",
       "    }\n",
       "\n",
       "    .dataframe thead th {\n",
       "        text-align: right;\n",
       "    }\n",
       "</style>\n",
       "<table border=\"1\" class=\"dataframe\">\n",
       "  <thead>\n",
       "    <tr style=\"text-align: right;\">\n",
       "      <th></th>\n",
       "      <th>new_title</th>\n",
       "      <th>new_post</th>\n",
       "      <th>is_MCFC</th>\n",
       "    </tr>\n",
       "  </thead>\n",
       "  <tbody>\n",
       "    <tr>\n",
       "      <th>1366</th>\n",
       "      <td>would happy city spent 100m player</td>\n",
       "      <td>know labelled big spenders buy pretty efficien...</td>\n",
       "      <td>1</td>\n",
       "    </tr>\n",
       "    <tr>\n",
       "      <th>1367</th>\n",
       "      <td>city abroad</td>\n",
       "      <td>living abroad year havn game since trashing sp...</td>\n",
       "      <td>1</td>\n",
       "    </tr>\n",
       "    <tr>\n",
       "      <th>1368</th>\n",
       "      <td>dead whining</td>\n",
       "      <td>domestic treble best two seasons history great...</td>\n",
       "      <td>1</td>\n",
       "    </tr>\n",
       "    <tr>\n",
       "      <th>1369</th>\n",
       "      <td>shirts dogs</td>\n",
       "      <td>looking get home shirt pup 20 pound shiba inu ...</td>\n",
       "      <td>1</td>\n",
       "    </tr>\n",
       "    <tr>\n",
       "      <th>1370</th>\n",
       "      <td>sane leaves sign winger midfielder</td>\n",
       "      <td>title says point sane leaving much possibility...</td>\n",
       "      <td>1</td>\n",
       "    </tr>\n",
       "  </tbody>\n",
       "</table>\n",
       "</div>"
      ],
      "text/plain": [
       "                               new_title  \\\n",
       "1366  would happy city spent 100m player   \n",
       "1367                         city abroad   \n",
       "1368                        dead whining   \n",
       "1369                         shirts dogs   \n",
       "1370  sane leaves sign winger midfielder   \n",
       "\n",
       "                                               new_post  is_MCFC  \n",
       "1366  know labelled big spenders buy pretty efficien...        1  \n",
       "1367  living abroad year havn game since trashing sp...        1  \n",
       "1368  domestic treble best two seasons history great...        1  \n",
       "1369  looking get home shirt pup 20 pound shiba inu ...        1  \n",
       "1370  title says point sane leaving much possibility...        1  "
      ]
     },
     "execution_count": 41,
     "metadata": {},
     "output_type": "execute_result"
    }
   ],
   "source": [
    "cleaned_manc = manc[['new_title', 'new_post', 'is_MCFC' ]]\n",
    "cleaned_manc.tail()"
   ]
  },
  {
   "cell_type": "markdown",
   "metadata": {},
   "source": [
    "***Modelling***\n"
   ]
  },
  {
   "cell_type": "markdown",
   "metadata": {},
   "source": [
    "The two models I intend to try here are the Logistic Regression model and the Naive Bayes model. I'm choosing Logistic Regression because it would be easier to interpret the coefficients of that model. For this, I will only use the title column as my features initially."
   ]
  },
  {
   "cell_type": "markdown",
   "metadata": {},
   "source": [
    "***Logistic Regression***"
   ]
  },
  {
   "cell_type": "code",
   "execution_count": 42,
   "metadata": {},
   "outputs": [],
   "source": [
    "# Train Test Split\n",
    "\n",
    "# Setting features and target \n",
    "\n",
    "features = manc['new_title']\n",
    "\n",
    "X = features\n",
    "y = manc['is_MCFC']"
   ]
  },
  {
   "cell_type": "code",
   "execution_count": 43,
   "metadata": {},
   "outputs": [],
   "source": [
    "#  Instantiating Train/Test Split. Sticking with the default test split of 0.25\n",
    "X_train, X_test, y_train, y_test = train_test_split(X, y, stratify=y, random_state=42)"
   ]
  },
  {
   "cell_type": "code",
   "execution_count": 44,
   "metadata": {},
   "outputs": [
    {
     "data": {
      "text/plain": [
       "0.5447470817120622"
      ]
     },
     "execution_count": 44,
     "metadata": {},
     "output_type": "execute_result"
    }
   ],
   "source": [
    "# Getting baseline accuracy score\n",
    "y_train.value_counts(normalize=True)[0]"
   ]
  },
  {
   "cell_type": "markdown",
   "metadata": {},
   "source": [
    "Our baseline score is 54.47%. \n",
    "I will be initiating a count vectorizer to start with as this will "
   ]
  },
  {
   "cell_type": "code",
   "execution_count": 1,
   "metadata": {},
   "outputs": [
    {
     "ename": "NameError",
     "evalue": "name 'CountVectorizer' is not defined",
     "output_type": "error",
     "traceback": [
      "\u001b[1;31m---------------------------------------------------------------------------\u001b[0m",
      "\u001b[1;31mNameError\u001b[0m                                 Traceback (most recent call last)",
      "\u001b[1;32m<ipython-input-1-fad7e2133f2d>\u001b[0m in \u001b[0;36m<module>\u001b[1;34m\u001b[0m\n\u001b[1;32m----> 1\u001b[1;33m \u001b[0mvectorizer\u001b[0m \u001b[1;33m=\u001b[0m \u001b[0mCountVectorizer\u001b[0m\u001b[1;33m(\u001b[0m\u001b[0manalyzer\u001b[0m\u001b[1;33m=\u001b[0m\u001b[1;34m\"word\"\u001b[0m\u001b[1;33m)\u001b[0m\u001b[1;33m\u001b[0m\u001b[1;33m\u001b[0m\u001b[0m\n\u001b[0m\u001b[0;32m      2\u001b[0m \u001b[1;33m\u001b[0m\u001b[0m\n\u001b[0;32m      3\u001b[0m \u001b[0mtrain_features\u001b[0m \u001b[1;33m=\u001b[0m \u001b[0mcvec\u001b[0m\u001b[1;33m.\u001b[0m\u001b[0mfit_transform\u001b[0m\u001b[1;33m(\u001b[0m\u001b[0mX_train\u001b[0m\u001b[1;33m)\u001b[0m\u001b[1;33m\u001b[0m\u001b[1;33m\u001b[0m\u001b[0m\n\u001b[0;32m      4\u001b[0m \u001b[0mtest_features\u001b[0m \u001b[1;33m=\u001b[0m \u001b[0mcvec\u001b[0m\u001b[1;33m.\u001b[0m\u001b[0mtransform\u001b[0m\u001b[1;33m(\u001b[0m\u001b[0mX_test\u001b[0m\u001b[1;33m)\u001b[0m\u001b[1;33m\u001b[0m\u001b[1;33m\u001b[0m\u001b[0m\n\u001b[0;32m      5\u001b[0m \u001b[0mtrain_features\u001b[0m \u001b[1;33m=\u001b[0m \u001b[0mtrain_features\u001b[0m\u001b[1;33m.\u001b[0m\u001b[0mtoarray\u001b[0m\u001b[1;33m(\u001b[0m\u001b[1;33m)\u001b[0m\u001b[1;33m\u001b[0m\u001b[1;33m\u001b[0m\u001b[0m\n",
      "\u001b[1;31mNameError\u001b[0m: name 'CountVectorizer' is not defined"
     ]
    }
   ],
   "source": [
    "vectorizer = CountVectorizer(analyzer=\"word\")\n",
    "\n",
    "train_features = vectorizer.fit_transform(X_train)\n",
    "test_features = vectorizer.transform(X_test)\n",
    "train_features = train_features.toarray()\n",
    "test_features = test_features.toarray()"
   ]
  },
  {
   "cell_type": "code",
   "execution_count": 46,
   "metadata": {},
   "outputs": [
    {
     "name": "stderr",
     "output_type": "stream",
     "text": [
      "C:\\Users\\folaf\\Anaconda3\\lib\\site-packages\\sklearn\\linear_model\\logistic.py:433: FutureWarning: Default solver will be changed to 'lbfgs' in 0.22. Specify a solver to silence this warning.\n",
      "  FutureWarning)\n"
     ]
    },
    {
     "data": {
      "text/plain": [
       "LogisticRegression(C=1.0, class_weight=None, dual=False, fit_intercept=True,\n",
       "          intercept_scaling=1, max_iter=100, multi_class='warn',\n",
       "          n_jobs=None, penalty='l2', random_state=None, solver='warn',\n",
       "          tol=0.0001, verbose=0, warm_start=False)"
      ]
     },
     "execution_count": 46,
     "metadata": {},
     "output_type": "execute_result"
    }
   ],
   "source": [
    "# Instantiating the Logistic Regression model:\n",
    "logreg = LogisticRegression()\n",
    "\n",
    "# Fitting onto on training data.\n",
    "logreg.fit(train_features, y_train)\n"
   ]
  },
  {
   "cell_type": "code",
   "execution_count": 47,
   "metadata": {},
   "outputs": [
    {
     "data": {
      "text/plain": [
       "0.9970817120622568"
      ]
     },
     "execution_count": 47,
     "metadata": {},
     "output_type": "execute_result"
    }
   ],
   "source": [
    "# Logistic Regression Training score\n",
    "logreg.score(train_features, y_train)"
   ]
  },
  {
   "cell_type": "code",
   "execution_count": 48,
   "metadata": {},
   "outputs": [
    {
     "data": {
      "text/plain": [
       "0.9766763848396501"
      ]
     },
     "execution_count": 48,
     "metadata": {},
     "output_type": "execute_result"
    }
   ],
   "source": [
    "# Logistic Regression Test Score\n",
    "logreg.score(test_features, y_test)"
   ]
  },
  {
   "cell_type": "markdown",
   "metadata": {},
   "source": [
    "The scores above show that our training and test accuracy for the logistic regression model with the count vectorizer are 99.70% and 97.66% respectively."
   ]
  },
  {
   "cell_type": "code",
   "execution_count": 49,
   "metadata": {},
   "outputs": [],
   "source": [
    "# Generating predictions\n",
    "vlog_pred = logreg.predict(test_features)"
   ]
  },
  {
   "cell_type": "code",
   "execution_count": 50,
   "metadata": {},
   "outputs": [
    {
     "data": {
      "text/plain": [
       "array([[187,   0],\n",
       "       [  8, 148]], dtype=int64)"
      ]
     },
     "execution_count": 50,
     "metadata": {},
     "output_type": "execute_result"
    }
   ],
   "source": [
    "# Creating a confusion matrix\n",
    "confusion_matrix(y_test, vlog_pred)"
   ]
  },
  {
   "cell_type": "code",
   "execution_count": 51,
   "metadata": {},
   "outputs": [
    {
     "data": {
      "image/png": "[encoded data removed]",
      "text/plain": [
       "<Figure size 432x288 with 2 Axes>"
      ]
     },
     "metadata": {
      "needs_background": "light"
     },
     "output_type": "display_data"
    }
   ],
   "source": [
    "# Illustration of the Count Vectorizer & Logistic Regression confusion matrix\n",
    "sns.heatmap(confusion_matrix(y_test, vlog_pred), \n",
    "            annot=True, fmt='g', cmap='viridis', \n",
    "            xticklabels=['Predicted Neg','Predicted Pos'],\n",
    "            yticklabels=['True Neg','True Pos']\n",
    "           );\n",
    "plt.title('Confusion Matrix: Count Vectorizer & Logistic Regression');"
   ]
  },
  {
   "cell_type": "markdown",
   "metadata": {},
   "source": [
    "***Naive Bayes model***"
   ]
  },
  {
   "cell_type": "code",
   "execution_count": 52,
   "metadata": {},
   "outputs": [],
   "source": [
    "# Instantiating Naive Bayes model\n",
    "v_nb = MultinomialNB()"
   ]
  },
  {
   "cell_type": "code",
   "execution_count": 53,
   "metadata": {},
   "outputs": [
    {
     "data": {
      "text/plain": [
       "MultinomialNB(alpha=1.0, class_prior=None, fit_prior=True)"
      ]
     },
     "execution_count": 53,
     "metadata": {},
     "output_type": "execute_result"
    }
   ],
   "source": [
    "# Fitting onto training data\n",
    "v_nb.fit(train_features, y_train)"
   ]
  },
  {
   "cell_type": "code",
   "execution_count": 54,
   "metadata": {},
   "outputs": [
    {
     "data": {
      "text/plain": [
       "0.97568093385214"
      ]
     },
     "execution_count": 54,
     "metadata": {},
     "output_type": "execute_result"
    }
   ],
   "source": [
    "# Score of Training Data\n",
    "v_nb.score(train_features, y_train)"
   ]
  },
  {
   "cell_type": "code",
   "execution_count": 55,
   "metadata": {},
   "outputs": [
    {
     "data": {
      "text/plain": [
       "0.9416909620991254"
      ]
     },
     "execution_count": 55,
     "metadata": {},
     "output_type": "execute_result"
    }
   ],
   "source": [
    "# Score of Testing Data\n",
    "v_nb.score(test_features, y_test)"
   ]
  },
  {
   "cell_type": "code",
   "execution_count": 56,
   "metadata": {},
   "outputs": [],
   "source": [
    "# Generating predictions\n",
    "v_nb_preds = v_nb.predict(test_features)"
   ]
  },
  {
   "cell_type": "code",
   "execution_count": 57,
   "metadata": {},
   "outputs": [
    {
     "data": {
      "text/plain": [
       "array([[176,  11],\n",
       "       [  9, 147]], dtype=int64)"
      ]
     },
     "execution_count": 57,
     "metadata": {},
     "output_type": "execute_result"
    }
   ],
   "source": [
    "# Creating confusion matrix\n",
    "confusion_matrix(y_test, v_nb_preds)"
   ]
  },
  {
   "cell_type": "code",
   "execution_count": 58,
   "metadata": {},
   "outputs": [
    {
     "data": {
      "image/png": "[encoded data removed]",
      "text/plain": [
       "<Figure size 432x288 with 2 Axes>"
      ]
     },
     "metadata": {
      "needs_background": "light"
     },
     "output_type": "display_data"
    }
   ],
   "source": [
    "# Illustrating confusion matrix for Naive Bayes model\n",
    "sns.heatmap(confusion_matrix(y_test, v_nb_preds), \n",
    "            annot=True, fmt='g', cmap='viridis', \n",
    "            xticklabels=['Predicted Neg','Predicted Pos'],\n",
    "            yticklabels=['True Neg','True Pos']\n",
    "           );\n",
    "plt.title('Confusion Matrix: CountVectorizer & Naive Bayes');"
   ]
  },
  {
   "cell_type": "markdown",
   "metadata": {},
   "source": [
    "Now, we want to see which words correlated the strongest in our results for each model on both subreddits."
   ]
  },
  {
   "cell_type": "code",
   "execution_count": 59,
   "metadata": {},
   "outputs": [],
   "source": [
    "# Creating variables to get words\n",
    "vocab = vectorizer.get_feature_names()\n",
    "coef_log  = logreg.coef_[0]\n",
    "coef_v_nb = v_nb.coef_[0]"
   ]
  },
  {
   "cell_type": "code",
   "execution_count": 60,
   "metadata": {},
   "outputs": [],
   "source": [
    "# Creating dataframe to order words in\n",
    "title_coef = pd.DataFrame(columns= ['word','coef_log','coef_nb'])\n",
    "title_coef['word'] = vocab\n",
    "title_coef['coef_log'] = coef_log\n",
    "title_coef['coef_nb'] = coef_v_nb"
   ]
  },
  {
   "cell_type": "code",
   "execution_count": 61,
   "metadata": {},
   "outputs": [
    {
     "data": {
      "text/html": [
       "<div>\n",
       "<style scoped>\n",
       "    .dataframe tbody tr th:only-of-type {\n",
       "        vertical-align: middle;\n",
       "    }\n",
       "\n",
       "    .dataframe tbody tr th {\n",
       "        vertical-align: top;\n",
       "    }\n",
       "\n",
       "    .dataframe thead th {\n",
       "        text-align: right;\n",
       "    }\n",
       "</style>\n",
       "<table border=\"1\" class=\"dataframe\">\n",
       "  <thead>\n",
       "    <tr style=\"text-align: right;\">\n",
       "      <th></th>\n",
       "      <th>word</th>\n",
       "      <th>coef_log</th>\n",
       "      <th>coef_nb</th>\n",
       "    </tr>\n",
       "  </thead>\n",
       "  <tbody>\n",
       "    <tr>\n",
       "      <th>216</th>\n",
       "      <td>city</td>\n",
       "      <td>2.931425</td>\n",
       "      <td>-3.811589</td>\n",
       "    </tr>\n",
       "    <tr>\n",
       "      <th>506</th>\n",
       "      <td>kit</td>\n",
       "      <td>1.659490</td>\n",
       "      <td>-4.910201</td>\n",
       "    </tr>\n",
       "    <tr>\n",
       "      <th>830</th>\n",
       "      <td>rodri</td>\n",
       "      <td>1.481002</td>\n",
       "      <td>-5.161515</td>\n",
       "    </tr>\n",
       "    <tr>\n",
       "      <th>711</th>\n",
       "      <td>pep</td>\n",
       "      <td>1.437868</td>\n",
       "      <td>-5.114995</td>\n",
       "    </tr>\n",
       "    <tr>\n",
       "      <th>401</th>\n",
       "      <td>general</td>\n",
       "      <td>1.093166</td>\n",
       "      <td>-5.210305</td>\n",
       "    </tr>\n",
       "    <tr>\n",
       "      <th>379</th>\n",
       "      <td>footy</td>\n",
       "      <td>1.048197</td>\n",
       "      <td>-5.261599</td>\n",
       "    </tr>\n",
       "    <tr>\n",
       "      <th>1090</th>\n",
       "      <td>weekly</td>\n",
       "      <td>1.048197</td>\n",
       "      <td>-5.261599</td>\n",
       "    </tr>\n",
       "    <tr>\n",
       "      <th>488</th>\n",
       "      <td>jesus</td>\n",
       "      <td>1.040003</td>\n",
       "      <td>-5.497988</td>\n",
       "    </tr>\n",
       "    <tr>\n",
       "      <th>509</th>\n",
       "      <td>kompany</td>\n",
       "      <td>1.028050</td>\n",
       "      <td>-6.008813</td>\n",
       "    </tr>\n",
       "    <tr>\n",
       "      <th>655</th>\n",
       "      <td>next</td>\n",
       "      <td>1.023906</td>\n",
       "      <td>-4.838742</td>\n",
       "    </tr>\n",
       "    <tr>\n",
       "      <th>191</th>\n",
       "      <td>cancelo</td>\n",
       "      <td>0.995586</td>\n",
       "      <td>-5.808142</td>\n",
       "    </tr>\n",
       "    <tr>\n",
       "      <th>669</th>\n",
       "      <td>oc</td>\n",
       "      <td>0.983735</td>\n",
       "      <td>-6.260128</td>\n",
       "    </tr>\n",
       "    <tr>\n",
       "      <th>886</th>\n",
       "      <td>shirts</td>\n",
       "      <td>0.972436</td>\n",
       "      <td>-5.903453</td>\n",
       "    </tr>\n",
       "    <tr>\n",
       "      <th>641</th>\n",
       "      <td>name</td>\n",
       "      <td>0.905250</td>\n",
       "      <td>-6.819743</td>\n",
       "    </tr>\n",
       "    <tr>\n",
       "      <th>193</th>\n",
       "      <td>captain</td>\n",
       "      <td>0.894450</td>\n",
       "      <td>-6.008813</td>\n",
       "    </tr>\n",
       "    <tr>\n",
       "      <th>308</th>\n",
       "      <td>ederson</td>\n",
       "      <td>0.860699</td>\n",
       "      <td>-6.414278</td>\n",
       "    </tr>\n",
       "    <tr>\n",
       "      <th>767</th>\n",
       "      <td>puma</td>\n",
       "      <td>0.856307</td>\n",
       "      <td>-5.808142</td>\n",
       "    </tr>\n",
       "    <tr>\n",
       "      <th>358</th>\n",
       "      <td>fernandinho</td>\n",
       "      <td>0.818114</td>\n",
       "      <td>-5.808142</td>\n",
       "    </tr>\n",
       "    <tr>\n",
       "      <th>673</th>\n",
       "      <td>officially</td>\n",
       "      <td>0.817168</td>\n",
       "      <td>-6.414278</td>\n",
       "    </tr>\n",
       "    <tr>\n",
       "      <th>849</th>\n",
       "      <td>sane</td>\n",
       "      <td>0.797701</td>\n",
       "      <td>-6.126596</td>\n",
       "    </tr>\n",
       "  </tbody>\n",
       "</table>\n",
       "</div>"
      ],
      "text/plain": [
       "             word  coef_log   coef_nb\n",
       "216          city  2.931425 -3.811589\n",
       "506           kit  1.659490 -4.910201\n",
       "830         rodri  1.481002 -5.161515\n",
       "711           pep  1.437868 -5.114995\n",
       "401       general  1.093166 -5.210305\n",
       "379         footy  1.048197 -5.261599\n",
       "1090       weekly  1.048197 -5.261599\n",
       "488         jesus  1.040003 -5.497988\n",
       "509       kompany  1.028050 -6.008813\n",
       "655          next  1.023906 -4.838742\n",
       "191       cancelo  0.995586 -5.808142\n",
       "669            oc  0.983735 -6.260128\n",
       "886        shirts  0.972436 -5.903453\n",
       "641          name  0.905250 -6.819743\n",
       "193       captain  0.894450 -6.008813\n",
       "308       ederson  0.860699 -6.414278\n",
       "767          puma  0.856307 -5.808142\n",
       "358   fernandinho  0.818114 -5.808142\n",
       "673    officially  0.817168 -6.414278\n",
       "849          sane  0.797701 -6.126596"
      ]
     },
     "execution_count": 61,
     "metadata": {},
     "output_type": "execute_result"
    }
   ],
   "source": [
    "# Strongest 20 words in the Logistic Regression model for MCFC subreddit\n",
    "title_coef.sort_values('coef_log', ascending = False).head(20)"
   ]
  },
  {
   "cell_type": "code",
   "execution_count": 62,
   "metadata": {},
   "outputs": [
    {
     "data": {
      "text/html": [
       "<div>\n",
       "<style scoped>\n",
       "    .dataframe tbody tr th:only-of-type {\n",
       "        vertical-align: middle;\n",
       "    }\n",
       "\n",
       "    .dataframe tbody tr th {\n",
       "        vertical-align: top;\n",
       "    }\n",
       "\n",
       "    .dataframe thead th {\n",
       "        text-align: right;\n",
       "    }\n",
       "</style>\n",
       "<table border=\"1\" class=\"dataframe\">\n",
       "  <thead>\n",
       "    <tr style=\"text-align: right;\">\n",
       "      <th></th>\n",
       "      <th>word</th>\n",
       "      <th>coef_log</th>\n",
       "      <th>coef_nb</th>\n",
       "    </tr>\n",
       "  </thead>\n",
       "  <tbody>\n",
       "    <tr>\n",
       "      <th>1043</th>\n",
       "      <td>united</td>\n",
       "      <td>-2.034813</td>\n",
       "      <td>-7.107425</td>\n",
       "    </tr>\n",
       "    <tr>\n",
       "      <th>878</th>\n",
       "      <td>series</td>\n",
       "      <td>-1.627439</td>\n",
       "      <td>-8.206038</td>\n",
       "    </tr>\n",
       "    <tr>\n",
       "      <th>1078</th>\n",
       "      <td>watch</td>\n",
       "      <td>-1.606678</td>\n",
       "      <td>-8.206038</td>\n",
       "    </tr>\n",
       "    <tr>\n",
       "      <th>639</th>\n",
       "      <td>mutv</td>\n",
       "      <td>-1.478169</td>\n",
       "      <td>-8.206038</td>\n",
       "    </tr>\n",
       "    <tr>\n",
       "      <th>37</th>\n",
       "      <td>2019</td>\n",
       "      <td>-1.402672</td>\n",
       "      <td>-6.260128</td>\n",
       "    </tr>\n",
       "    <tr>\n",
       "      <th>411</th>\n",
       "      <td>glazers</td>\n",
       "      <td>-1.351856</td>\n",
       "      <td>-8.206038</td>\n",
       "    </tr>\n",
       "    <tr>\n",
       "      <th>508</th>\n",
       "      <td>know</td>\n",
       "      <td>-1.335825</td>\n",
       "      <td>-8.206038</td>\n",
       "    </tr>\n",
       "    <tr>\n",
       "      <th>638</th>\n",
       "      <td>muppets</td>\n",
       "      <td>-1.272933</td>\n",
       "      <td>-8.206038</td>\n",
       "    </tr>\n",
       "    <tr>\n",
       "      <th>735</th>\n",
       "      <td>pogba</td>\n",
       "      <td>-1.193071</td>\n",
       "      <td>-7.107425</td>\n",
       "    </tr>\n",
       "    <tr>\n",
       "      <th>730</th>\n",
       "      <td>players</td>\n",
       "      <td>-1.185233</td>\n",
       "      <td>-8.206038</td>\n",
       "    </tr>\n",
       "    <tr>\n",
       "      <th>708</th>\n",
       "      <td>payment</td>\n",
       "      <td>-1.146640</td>\n",
       "      <td>-8.206038</td>\n",
       "    </tr>\n",
       "    <tr>\n",
       "      <th>257</th>\n",
       "      <td>current</td>\n",
       "      <td>-1.129187</td>\n",
       "      <td>-8.206038</td>\n",
       "    </tr>\n",
       "    <tr>\n",
       "      <th>1017</th>\n",
       "      <td>trafford</td>\n",
       "      <td>-1.114318</td>\n",
       "      <td>-8.206038</td>\n",
       "    </tr>\n",
       "    <tr>\n",
       "      <th>976</th>\n",
       "      <td>talk</td>\n",
       "      <td>-1.113211</td>\n",
       "      <td>-8.206038</td>\n",
       "    </tr>\n",
       "    <tr>\n",
       "      <th>5</th>\n",
       "      <td>06</td>\n",
       "      <td>-1.094377</td>\n",
       "      <td>-8.206038</td>\n",
       "    </tr>\n",
       "    <tr>\n",
       "      <th>387</th>\n",
       "      <td>friday</td>\n",
       "      <td>-1.085042</td>\n",
       "      <td>-8.206038</td>\n",
       "    </tr>\n",
       "    <tr>\n",
       "      <th>612</th>\n",
       "      <td>meta</td>\n",
       "      <td>-1.052989</td>\n",
       "      <td>-8.206038</td>\n",
       "    </tr>\n",
       "    <tr>\n",
       "      <th>259</th>\n",
       "      <td>daily</td>\n",
       "      <td>-1.029580</td>\n",
       "      <td>-8.206038</td>\n",
       "    </tr>\n",
       "    <tr>\n",
       "      <th>676</th>\n",
       "      <td>ole</td>\n",
       "      <td>-1.017667</td>\n",
       "      <td>-8.206038</td>\n",
       "    </tr>\n",
       "    <tr>\n",
       "      <th>1054</th>\n",
       "      <td>utd</td>\n",
       "      <td>-1.003687</td>\n",
       "      <td>-6.126596</td>\n",
       "    </tr>\n",
       "  </tbody>\n",
       "</table>\n",
       "</div>"
      ],
      "text/plain": [
       "          word  coef_log   coef_nb\n",
       "1043    united -2.034813 -7.107425\n",
       "878     series -1.627439 -8.206038\n",
       "1078     watch -1.606678 -8.206038\n",
       "639       mutv -1.478169 -8.206038\n",
       "37        2019 -1.402672 -6.260128\n",
       "411    glazers -1.351856 -8.206038\n",
       "508       know -1.335825 -8.206038\n",
       "638    muppets -1.272933 -8.206038\n",
       "735      pogba -1.193071 -7.107425\n",
       "730    players -1.185233 -8.206038\n",
       "708    payment -1.146640 -8.206038\n",
       "257    current -1.129187 -8.206038\n",
       "1017  trafford -1.114318 -8.206038\n",
       "976       talk -1.113211 -8.206038\n",
       "5           06 -1.094377 -8.206038\n",
       "387     friday -1.085042 -8.206038\n",
       "612       meta -1.052989 -8.206038\n",
       "259      daily -1.029580 -8.206038\n",
       "676        ole -1.017667 -8.206038\n",
       "1054       utd -1.003687 -6.126596"
      ]
     },
     "execution_count": 62,
     "metadata": {},
     "output_type": "execute_result"
    }
   ],
   "source": [
    "# Strongest 20 words in the Logistic Regression model for the Reddevils subreddit\n",
    "title_coef.sort_values('coef_log').head(20)"
   ]
  },
  {
   "cell_type": "code",
   "execution_count": 63,
   "metadata": {},
   "outputs": [
    {
     "data": {
      "text/html": [
       "<div>\n",
       "<style scoped>\n",
       "    .dataframe tbody tr th:only-of-type {\n",
       "        vertical-align: middle;\n",
       "    }\n",
       "\n",
       "    .dataframe tbody tr th {\n",
       "        vertical-align: top;\n",
       "    }\n",
       "\n",
       "    .dataframe thead th {\n",
       "        text-align: right;\n",
       "    }\n",
       "</style>\n",
       "<table border=\"1\" class=\"dataframe\">\n",
       "  <thead>\n",
       "    <tr style=\"text-align: right;\">\n",
       "      <th></th>\n",
       "      <th>word</th>\n",
       "      <th>coef_log</th>\n",
       "      <th>coef_nb</th>\n",
       "    </tr>\n",
       "  </thead>\n",
       "  <tbody>\n",
       "    <tr>\n",
       "      <th>216</th>\n",
       "      <td>city</td>\n",
       "      <td>2.931425</td>\n",
       "      <td>-3.811589</td>\n",
       "    </tr>\n",
       "    <tr>\n",
       "      <th>867</th>\n",
       "      <td>season</td>\n",
       "      <td>0.459103</td>\n",
       "      <td>-4.334837</td>\n",
       "    </tr>\n",
       "    <tr>\n",
       "      <th>995</th>\n",
       "      <td>thread</td>\n",
       "      <td>0.129098</td>\n",
       "      <td>-4.542476</td>\n",
       "    </tr>\n",
       "    <tr>\n",
       "      <th>655</th>\n",
       "      <td>next</td>\n",
       "      <td>1.023906</td>\n",
       "      <td>-4.838742</td>\n",
       "    </tr>\n",
       "    <tr>\n",
       "      <th>506</th>\n",
       "      <td>kit</td>\n",
       "      <td>1.659490</td>\n",
       "      <td>-4.910201</td>\n",
       "    </tr>\n",
       "    <tr>\n",
       "      <th>115</th>\n",
       "      <td>anyone</td>\n",
       "      <td>0.392223</td>\n",
       "      <td>-4.987162</td>\n",
       "    </tr>\n",
       "    <tr>\n",
       "      <th>989</th>\n",
       "      <td>think</td>\n",
       "      <td>0.540469</td>\n",
       "      <td>-4.987162</td>\n",
       "    </tr>\n",
       "    <tr>\n",
       "      <th>573</th>\n",
       "      <td>man</td>\n",
       "      <td>-0.909600</td>\n",
       "      <td>-5.027984</td>\n",
       "    </tr>\n",
       "    <tr>\n",
       "      <th>26</th>\n",
       "      <td>18</td>\n",
       "      <td>0.469977</td>\n",
       "      <td>-5.070544</td>\n",
       "    </tr>\n",
       "    <tr>\n",
       "      <th>1070</th>\n",
       "      <td>vs</td>\n",
       "      <td>-0.125141</td>\n",
       "      <td>-5.070544</td>\n",
       "    </tr>\n",
       "    <tr>\n",
       "      <th>27</th>\n",
       "      <td>19</td>\n",
       "      <td>-0.195877</td>\n",
       "      <td>-5.070544</td>\n",
       "    </tr>\n",
       "    <tr>\n",
       "      <th>711</th>\n",
       "      <td>pep</td>\n",
       "      <td>1.437868</td>\n",
       "      <td>-5.114995</td>\n",
       "    </tr>\n",
       "    <tr>\n",
       "      <th>578</th>\n",
       "      <td>manchester</td>\n",
       "      <td>-0.668992</td>\n",
       "      <td>-5.114995</td>\n",
       "    </tr>\n",
       "    <tr>\n",
       "      <th>591</th>\n",
       "      <td>match</td>\n",
       "      <td>0.357220</td>\n",
       "      <td>-5.114995</td>\n",
       "    </tr>\n",
       "    <tr>\n",
       "      <th>830</th>\n",
       "      <td>rodri</td>\n",
       "      <td>1.481002</td>\n",
       "      <td>-5.161515</td>\n",
       "    </tr>\n",
       "    <tr>\n",
       "      <th>294</th>\n",
       "      <td>discussion</td>\n",
       "      <td>-0.959207</td>\n",
       "      <td>-5.161515</td>\n",
       "    </tr>\n",
       "    <tr>\n",
       "      <th>401</th>\n",
       "      <td>general</td>\n",
       "      <td>1.093166</td>\n",
       "      <td>-5.210305</td>\n",
       "    </tr>\n",
       "    <tr>\n",
       "      <th>652</th>\n",
       "      <td>new</td>\n",
       "      <td>0.112212</td>\n",
       "      <td>-5.210305</td>\n",
       "    </tr>\n",
       "    <tr>\n",
       "      <th>1090</th>\n",
       "      <td>weekly</td>\n",
       "      <td>1.048197</td>\n",
       "      <td>-5.261599</td>\n",
       "    </tr>\n",
       "    <tr>\n",
       "      <th>379</th>\n",
       "      <td>footy</td>\n",
       "      <td>1.048197</td>\n",
       "      <td>-5.261599</td>\n",
       "    </tr>\n",
       "  </tbody>\n",
       "</table>\n",
       "</div>"
      ],
      "text/plain": [
       "            word  coef_log   coef_nb\n",
       "216         city  2.931425 -3.811589\n",
       "867       season  0.459103 -4.334837\n",
       "995       thread  0.129098 -4.542476\n",
       "655         next  1.023906 -4.838742\n",
       "506          kit  1.659490 -4.910201\n",
       "115       anyone  0.392223 -4.987162\n",
       "989        think  0.540469 -4.987162\n",
       "573          man -0.909600 -5.027984\n",
       "26            18  0.469977 -5.070544\n",
       "1070          vs -0.125141 -5.070544\n",
       "27            19 -0.195877 -5.070544\n",
       "711          pep  1.437868 -5.114995\n",
       "578   manchester -0.668992 -5.114995\n",
       "591        match  0.357220 -5.114995\n",
       "830        rodri  1.481002 -5.161515\n",
       "294   discussion -0.959207 -5.161515\n",
       "401      general  1.093166 -5.210305\n",
       "652          new  0.112212 -5.210305\n",
       "1090      weekly  1.048197 -5.261599\n",
       "379        footy  1.048197 -5.261599"
      ]
     },
     "execution_count": 63,
     "metadata": {},
     "output_type": "execute_result"
    }
   ],
   "source": [
    "# Strongest 20 words for the MCFC subreddit in the Naive Bayes model\n",
    "title_coef.sort_values('coef_nb', ascending=False).head(20)"
   ]
  },
  {
   "cell_type": "code",
   "execution_count": 64,
   "metadata": {},
   "outputs": [
    {
     "data": {
      "text/html": [
       "<div>\n",
       "<style scoped>\n",
       "    .dataframe tbody tr th:only-of-type {\n",
       "        vertical-align: middle;\n",
       "    }\n",
       "\n",
       "    .dataframe tbody tr th {\n",
       "        vertical-align: top;\n",
       "    }\n",
       "\n",
       "    .dataframe thead th {\n",
       "        text-align: right;\n",
       "    }\n",
       "</style>\n",
       "<table border=\"1\" class=\"dataframe\">\n",
       "  <thead>\n",
       "    <tr style=\"text-align: right;\">\n",
       "      <th></th>\n",
       "      <th>word</th>\n",
       "      <th>coef_log</th>\n",
       "      <th>coef_nb</th>\n",
       "    </tr>\n",
       "  </thead>\n",
       "  <tbody>\n",
       "    <tr>\n",
       "      <th>0</th>\n",
       "      <td>01</td>\n",
       "      <td>-0.138722</td>\n",
       "      <td>-8.206038</td>\n",
       "    </tr>\n",
       "    <tr>\n",
       "      <th>610</th>\n",
       "      <td>mensah</td>\n",
       "      <td>-0.297882</td>\n",
       "      <td>-8.206038</td>\n",
       "    </tr>\n",
       "    <tr>\n",
       "      <th>611</th>\n",
       "      <td>mentions</td>\n",
       "      <td>-0.017460</td>\n",
       "      <td>-8.206038</td>\n",
       "    </tr>\n",
       "    <tr>\n",
       "      <th>612</th>\n",
       "      <td>meta</td>\n",
       "      <td>-1.052989</td>\n",
       "      <td>-8.206038</td>\n",
       "    </tr>\n",
       "    <tr>\n",
       "      <th>617</th>\n",
       "      <td>midfielders</td>\n",
       "      <td>-0.413456</td>\n",
       "      <td>-8.206038</td>\n",
       "    </tr>\n",
       "    <tr>\n",
       "      <th>623</th>\n",
       "      <td>moderator</td>\n",
       "      <td>-0.275975</td>\n",
       "      <td>-8.206038</td>\n",
       "    </tr>\n",
       "    <tr>\n",
       "      <th>624</th>\n",
       "      <td>mods</td>\n",
       "      <td>-0.480465</td>\n",
       "      <td>-8.206038</td>\n",
       "    </tr>\n",
       "    <tr>\n",
       "      <th>625</th>\n",
       "      <td>moment</td>\n",
       "      <td>-0.104019</td>\n",
       "      <td>-8.206038</td>\n",
       "    </tr>\n",
       "    <tr>\n",
       "      <th>608</th>\n",
       "      <td>memory</td>\n",
       "      <td>-0.355630</td>\n",
       "      <td>-8.206038</td>\n",
       "    </tr>\n",
       "    <tr>\n",
       "      <th>626</th>\n",
       "      <td>moments</td>\n",
       "      <td>-0.313354</td>\n",
       "      <td>-8.206038</td>\n",
       "    </tr>\n",
       "    <tr>\n",
       "      <th>630</th>\n",
       "      <td>motivation</td>\n",
       "      <td>-0.335695</td>\n",
       "      <td>-8.206038</td>\n",
       "    </tr>\n",
       "    <tr>\n",
       "      <th>631</th>\n",
       "      <td>mourinho</td>\n",
       "      <td>-0.271423</td>\n",
       "      <td>-8.206038</td>\n",
       "    </tr>\n",
       "    <tr>\n",
       "      <th>634</th>\n",
       "      <td>mufc</td>\n",
       "      <td>-0.231264</td>\n",
       "      <td>-8.206038</td>\n",
       "    </tr>\n",
       "    <tr>\n",
       "      <th>635</th>\n",
       "      <td>mulive</td>\n",
       "      <td>-0.196517</td>\n",
       "      <td>-8.206038</td>\n",
       "    </tr>\n",
       "    <tr>\n",
       "      <th>637</th>\n",
       "      <td>muppetry</td>\n",
       "      <td>-0.245652</td>\n",
       "      <td>-8.206038</td>\n",
       "    </tr>\n",
       "    <tr>\n",
       "      <th>638</th>\n",
       "      <td>muppets</td>\n",
       "      <td>-1.272933</td>\n",
       "      <td>-8.206038</td>\n",
       "    </tr>\n",
       "    <tr>\n",
       "      <th>639</th>\n",
       "      <td>mutv</td>\n",
       "      <td>-1.478169</td>\n",
       "      <td>-8.206038</td>\n",
       "    </tr>\n",
       "    <tr>\n",
       "      <th>627</th>\n",
       "      <td>mondays</td>\n",
       "      <td>-0.457439</td>\n",
       "      <td>-8.206038</td>\n",
       "    </tr>\n",
       "    <tr>\n",
       "      <th>640</th>\n",
       "      <td>muw</td>\n",
       "      <td>-0.124600</td>\n",
       "      <td>-8.206038</td>\n",
       "    </tr>\n",
       "    <tr>\n",
       "      <th>607</th>\n",
       "      <td>memories</td>\n",
       "      <td>-0.053495</td>\n",
       "      <td>-8.206038</td>\n",
       "    </tr>\n",
       "  </tbody>\n",
       "</table>\n",
       "</div>"
      ],
      "text/plain": [
       "            word  coef_log   coef_nb\n",
       "0             01 -0.138722 -8.206038\n",
       "610       mensah -0.297882 -8.206038\n",
       "611     mentions -0.017460 -8.206038\n",
       "612         meta -1.052989 -8.206038\n",
       "617  midfielders -0.413456 -8.206038\n",
       "623    moderator -0.275975 -8.206038\n",
       "624         mods -0.480465 -8.206038\n",
       "625       moment -0.104019 -8.206038\n",
       "608       memory -0.355630 -8.206038\n",
       "626      moments -0.313354 -8.206038\n",
       "630   motivation -0.335695 -8.206038\n",
       "631     mourinho -0.271423 -8.206038\n",
       "634         mufc -0.231264 -8.206038\n",
       "635       mulive -0.196517 -8.206038\n",
       "637     muppetry -0.245652 -8.206038\n",
       "638      muppets -1.272933 -8.206038\n",
       "639         mutv -1.478169 -8.206038\n",
       "627      mondays -0.457439 -8.206038\n",
       "640          muw -0.124600 -8.206038\n",
       "607     memories -0.053495 -8.206038"
      ]
     },
     "execution_count": 64,
     "metadata": {},
     "output_type": "execute_result"
    }
   ],
   "source": [
    "# Strongest 20 words for the Reddevils subreddit in the Naive Bayes model\n",
    "title_coef.sort_values('coef_nb').head(20)"
   ]
  },
  {
   "cell_type": "markdown",
   "metadata": {},
   "source": [
    "This Reddevils Naive Bayes strongest words are somewhat strange, although there are similar words between the two models. Looking at the two subreddits, the most dominant words seem to be player/manager names. Additionally, the sentiment around the Manchester United team seems to be captured with word 'muppet' (British slang insult) correlating strongly in both models.\n",
    "\n",
    "Now I will try using TF-IDF with the two models to see if I get a better score."
   ]
  },
  {
   "cell_type": "code",
   "execution_count": 65,
   "metadata": {},
   "outputs": [],
   "source": [
    "# TF-IDF"
   ]
  },
  {
   "cell_type": "code",
   "execution_count": 66,
   "metadata": {},
   "outputs": [],
   "source": [
    "tfidf = TfidfVectorizer(stop_words='english')"
   ]
  },
  {
   "cell_type": "code",
   "execution_count": 67,
   "metadata": {},
   "outputs": [],
   "source": [
    "train_tfidf = tfidf.fit_transform(X_train)\n",
    "test_tfidf = tfidf.transform(X_test)\n",
    "train_tfidf = train_tfidf.toarray()\n",
    "test_tfidf = test_tfidf.toarray()"
   ]
  },
  {
   "cell_type": "code",
   "execution_count": 68,
   "metadata": {},
   "outputs": [],
   "source": [
    "# Logistic Regression"
   ]
  },
  {
   "cell_type": "code",
   "execution_count": 69,
   "metadata": {},
   "outputs": [],
   "source": [
    "logreg_tfidf = LogisticRegression()"
   ]
  },
  {
   "cell_type": "code",
   "execution_count": 70,
   "metadata": {},
   "outputs": [
    {
     "name": "stderr",
     "output_type": "stream",
     "text": [
      "C:\\Users\\folaf\\Anaconda3\\lib\\site-packages\\sklearn\\linear_model\\logistic.py:433: FutureWarning: Default solver will be changed to 'lbfgs' in 0.22. Specify a solver to silence this warning.\n",
      "  FutureWarning)\n"
     ]
    },
    {
     "data": {
      "text/plain": [
       "LogisticRegression(C=1.0, class_weight=None, dual=False, fit_intercept=True,\n",
       "          intercept_scaling=1, max_iter=100, multi_class='warn',\n",
       "          n_jobs=None, penalty='l2', random_state=None, solver='warn',\n",
       "          tol=0.0001, verbose=0, warm_start=False)"
      ]
     },
     "execution_count": 70,
     "metadata": {},
     "output_type": "execute_result"
    }
   ],
   "source": [
    "# Fitting model\n",
    "logreg_tfidf.fit(train_tfidf, y_train)\n"
   ]
  },
  {
   "cell_type": "code",
   "execution_count": 71,
   "metadata": {},
   "outputs": [
    {
     "data": {
      "text/plain": [
       "0.9922178988326849"
      ]
     },
     "execution_count": 71,
     "metadata": {},
     "output_type": "execute_result"
    }
   ],
   "source": [
    "# Training score\n",
    "logreg_tfidf.score(train_tfidf, y_train)"
   ]
  },
  {
   "cell_type": "code",
   "execution_count": 72,
   "metadata": {},
   "outputs": [
    {
     "data": {
      "text/plain": [
       "0.9650145772594753"
      ]
     },
     "execution_count": 72,
     "metadata": {},
     "output_type": "execute_result"
    }
   ],
   "source": [
    "# Test Score\n",
    "logreg_tfidf.score(test_tfidf, y_test)"
   ]
  },
  {
   "cell_type": "code",
   "execution_count": 73,
   "metadata": {},
   "outputs": [],
   "source": [
    "# Generating predictions\n",
    "log_tfidf_preds = logreg_tfidf.predict(test_tfidf)"
   ]
  },
  {
   "cell_type": "code",
   "execution_count": 74,
   "metadata": {},
   "outputs": [
    {
     "data": {
      "text/plain": [
       "array([[183,   4],\n",
       "       [  8, 148]], dtype=int64)"
      ]
     },
     "execution_count": 74,
     "metadata": {},
     "output_type": "execute_result"
    }
   ],
   "source": [
    "confusion_matrix(y_test, log_tfidf_preds)"
   ]
  },
  {
   "cell_type": "code",
   "execution_count": 75,
   "metadata": {},
   "outputs": [
    {
     "data": {
      "image/png": "[encoded data removed]",
      "text/plain": [
       "<Figure size 432x288 with 2 Axes>"
      ]
     },
     "metadata": {
      "needs_background": "light"
     },
     "output_type": "display_data"
    }
   ],
   "source": [
    "# Illustration of confusion matrix\n",
    "sns.heatmap(confusion_matrix(y_test, log_tfidf_preds), \n",
    "            annot=True, fmt='g', cmap='viridis', \n",
    "            xticklabels=['Predicted Neg','Predicted Pos'],\n",
    "            yticklabels=['True Neg','True Pos']\n",
    "           );\n",
    "plt.title('Confusion Matrix: TF-IDF & Logistic Regression');"
   ]
  },
  {
   "cell_type": "code",
   "execution_count": 76,
   "metadata": {},
   "outputs": [],
   "source": [
    "# Naive Bayes"
   ]
  },
  {
   "cell_type": "code",
   "execution_count": 77,
   "metadata": {},
   "outputs": [],
   "source": [
    "nb_tfidf = MultinomialNB()"
   ]
  },
  {
   "cell_type": "code",
   "execution_count": 78,
   "metadata": {},
   "outputs": [
    {
     "data": {
      "text/plain": [
       "MultinomialNB(alpha=1.0, class_prior=None, fit_prior=True)"
      ]
     },
     "execution_count": 78,
     "metadata": {},
     "output_type": "execute_result"
    }
   ],
   "source": [
    "# Generating predictions\n",
    "nb_tfidf.fit(train_tfidf, y_train)"
   ]
  },
  {
   "cell_type": "code",
   "execution_count": 79,
   "metadata": {},
   "outputs": [
    {
     "data": {
      "text/plain": [
       "0.9834630350194552"
      ]
     },
     "execution_count": 79,
     "metadata": {},
     "output_type": "execute_result"
    }
   ],
   "source": [
    "# Training score\n",
    "nb_tfidf.score(train_tfidf, y_train)"
   ]
  },
  {
   "cell_type": "code",
   "execution_count": 80,
   "metadata": {},
   "outputs": [
    {
     "data": {
      "text/plain": [
       "0.9504373177842566"
      ]
     },
     "execution_count": 80,
     "metadata": {},
     "output_type": "execute_result"
    }
   ],
   "source": [
    "# Test score\n",
    "nb_tfidf.score(test_tfidf, y_test)"
   ]
  },
  {
   "cell_type": "code",
   "execution_count": 81,
   "metadata": {},
   "outputs": [],
   "source": [
    "nb_tfidf_preds = nb_tfidf.predict(test_tfidf)"
   ]
  },
  {
   "cell_type": "code",
   "execution_count": 82,
   "metadata": {},
   "outputs": [
    {
     "data": {
      "text/plain": [
       "array([[178,   9],\n",
       "       [  8, 148]], dtype=int64)"
      ]
     },
     "execution_count": 82,
     "metadata": {},
     "output_type": "execute_result"
    }
   ],
   "source": [
    "confusion_matrix(y_test, nb_tfidf_preds)"
   ]
  },
  {
   "cell_type": "code",
   "execution_count": 83,
   "metadata": {},
   "outputs": [
    {
     "data": {
      "image/png": "[encoded data removed]",
      "text/plain": [
       "<Figure size 648x504 with 2 Axes>"
      ]
     },
     "metadata": {
      "needs_background": "light"
     },
     "output_type": "display_data"
    }
   ],
   "source": [
    "# Confusion matrix illustration\n",
    "plt.figure(figsize=(9,7))\n",
    "sns.heatmap(confusion_matrix(y_test, nb_tfidf_preds), \n",
    "            annot=True, fmt='g', cmap='viridis',\n",
    "            linewidths=0.5,\n",
    "            xticklabels=['Predicted Neg','Predicted Pos'],\n",
    "            yticklabels=['True Neg','True Pos']\n",
    "           );\n",
    "plt.title('Confusion Matrix: TF-IDF & Naïve Bayes');"
   ]
  },
  {
   "cell_type": "markdown",
   "metadata": {},
   "source": [
    "Neither of the scores from either model using TF-IDF generating a better score than the Logistic Regression model with Count Vectorizer.\n",
    "\n",
    "However, I will take a look at the words that strongly correlated with the subreddits for each model."
   ]
  },
  {
   "cell_type": "code",
   "execution_count": 84,
   "metadata": {},
   "outputs": [],
   "source": [
    "vocab_tfidf = tfidf.get_feature_names()\n",
    "coef_tfidf_log  = logreg_tfidf.coef_[0]\n",
    "coef_tfidf_nb = nb_tfidf.coef_[0]"
   ]
  },
  {
   "cell_type": "code",
   "execution_count": 85,
   "metadata": {},
   "outputs": [],
   "source": [
    "tfidf_coef = pd.DataFrame(columns= ['word','coef_log_tfidf','coef_nb_tfidf'])\n",
    "tfidf_coef['word'] = vocab_tfidf\n",
    "tfidf_coef['coef_log_tfidf'] = coef_tfidf_log\n",
    "tfidf_coef['coef_nb_tfidf'] = coef_tfidf_nb"
   ]
  },
  {
   "cell_type": "code",
   "execution_count": 86,
   "metadata": {},
   "outputs": [
    {
     "data": {
      "text/html": [
       "<div>\n",
       "<style scoped>\n",
       "    .dataframe tbody tr th:only-of-type {\n",
       "        vertical-align: middle;\n",
       "    }\n",
       "\n",
       "    .dataframe tbody tr th {\n",
       "        vertical-align: top;\n",
       "    }\n",
       "\n",
       "    .dataframe thead th {\n",
       "        text-align: right;\n",
       "    }\n",
       "</style>\n",
       "<table border=\"1\" class=\"dataframe\">\n",
       "  <thead>\n",
       "    <tr style=\"text-align: right;\">\n",
       "      <th></th>\n",
       "      <th>word</th>\n",
       "      <th>coef_log_tfidf</th>\n",
       "      <th>coef_nb_tfidf</th>\n",
       "    </tr>\n",
       "  </thead>\n",
       "  <tbody>\n",
       "    <tr>\n",
       "      <th>208</th>\n",
       "      <td>city</td>\n",
       "      <td>3.847976</td>\n",
       "      <td>-4.560552</td>\n",
       "    </tr>\n",
       "    <tr>\n",
       "      <th>791</th>\n",
       "      <td>rodri</td>\n",
       "      <td>1.777468</td>\n",
       "      <td>-5.290955</td>\n",
       "    </tr>\n",
       "    <tr>\n",
       "      <th>480</th>\n",
       "      <td>kit</td>\n",
       "      <td>1.679581</td>\n",
       "      <td>-5.199653</td>\n",
       "    </tr>\n",
       "    <tr>\n",
       "      <th>675</th>\n",
       "      <td>pep</td>\n",
       "      <td>1.664994</td>\n",
       "      <td>-5.499913</td>\n",
       "    </tr>\n",
       "    <tr>\n",
       "      <th>379</th>\n",
       "      <td>general</td>\n",
       "      <td>1.396766</td>\n",
       "      <td>-5.272919</td>\n",
       "    </tr>\n",
       "    <tr>\n",
       "      <th>1037</th>\n",
       "      <td>weekly</td>\n",
       "      <td>1.339966</td>\n",
       "      <td>-5.306336</td>\n",
       "    </tr>\n",
       "    <tr>\n",
       "      <th>359</th>\n",
       "      <td>footy</td>\n",
       "      <td>1.339966</td>\n",
       "      <td>-5.306336</td>\n",
       "    </tr>\n",
       "    <tr>\n",
       "      <th>828</th>\n",
       "      <td>season</td>\n",
       "      <td>1.303008</td>\n",
       "      <td>-4.939709</td>\n",
       "    </tr>\n",
       "    <tr>\n",
       "      <th>462</th>\n",
       "      <td>jesus</td>\n",
       "      <td>1.206193</td>\n",
       "      <td>-5.729466</td>\n",
       "    </tr>\n",
       "    <tr>\n",
       "      <th>942</th>\n",
       "      <td>think</td>\n",
       "      <td>1.103847</td>\n",
       "      <td>-5.220021</td>\n",
       "    </tr>\n",
       "  </tbody>\n",
       "</table>\n",
       "</div>"
      ],
      "text/plain": [
       "         word  coef_log_tfidf  coef_nb_tfidf\n",
       "208      city        3.847976      -4.560552\n",
       "791     rodri        1.777468      -5.290955\n",
       "480       kit        1.679581      -5.199653\n",
       "675       pep        1.664994      -5.499913\n",
       "379   general        1.396766      -5.272919\n",
       "1037   weekly        1.339966      -5.306336\n",
       "359     footy        1.339966      -5.306336\n",
       "828    season        1.303008      -4.939709\n",
       "462     jesus        1.206193      -5.729466\n",
       "942     think        1.103847      -5.220021"
      ]
     },
     "execution_count": 86,
     "metadata": {},
     "output_type": "execute_result"
    }
   ],
   "source": [
    "# Strongest 10 words in Logistic Regression for MCFC subreddit\n",
    "tfidf_coef.sort_values('coef_log_tfidf', ascending=False).head(10)"
   ]
  },
  {
   "cell_type": "code",
   "execution_count": 87,
   "metadata": {},
   "outputs": [
    {
     "data": {
      "text/html": [
       "<div>\n",
       "<style scoped>\n",
       "    .dataframe tbody tr th:only-of-type {\n",
       "        vertical-align: middle;\n",
       "    }\n",
       "\n",
       "    .dataframe tbody tr th {\n",
       "        vertical-align: top;\n",
       "    }\n",
       "\n",
       "    .dataframe thead th {\n",
       "        text-align: right;\n",
       "    }\n",
       "</style>\n",
       "<table border=\"1\" class=\"dataframe\">\n",
       "  <thead>\n",
       "    <tr style=\"text-align: right;\">\n",
       "      <th></th>\n",
       "      <th>word</th>\n",
       "      <th>coef_log_tfidf</th>\n",
       "      <th>coef_nb_tfidf</th>\n",
       "    </tr>\n",
       "  </thead>\n",
       "  <tbody>\n",
       "    <tr>\n",
       "      <th>609</th>\n",
       "      <td>mutv</td>\n",
       "      <td>-1.500259</td>\n",
       "      <td>-7.623214</td>\n",
       "    </tr>\n",
       "    <tr>\n",
       "      <th>971</th>\n",
       "      <td>transfer</td>\n",
       "      <td>-1.567676</td>\n",
       "      <td>-6.173412</td>\n",
       "    </tr>\n",
       "    <tr>\n",
       "      <th>284</th>\n",
       "      <td>discussion</td>\n",
       "      <td>-1.607868</td>\n",
       "      <td>-5.737990</td>\n",
       "    </tr>\n",
       "    <tr>\n",
       "      <th>608</th>\n",
       "      <td>muppets</td>\n",
       "      <td>-1.615134</td>\n",
       "      <td>-7.623214</td>\n",
       "    </tr>\n",
       "    <tr>\n",
       "      <th>837</th>\n",
       "      <td>series</td>\n",
       "      <td>-1.624931</td>\n",
       "      <td>-7.623214</td>\n",
       "    </tr>\n",
       "    <tr>\n",
       "      <th>250</th>\n",
       "      <td>daily</td>\n",
       "      <td>-1.628926</td>\n",
       "      <td>-7.623214</td>\n",
       "    </tr>\n",
       "    <tr>\n",
       "      <th>5</th>\n",
       "      <td>06</td>\n",
       "      <td>-1.684850</td>\n",
       "      <td>-7.623214</td>\n",
       "    </tr>\n",
       "    <tr>\n",
       "      <th>1025</th>\n",
       "      <td>watch</td>\n",
       "      <td>-1.864837</td>\n",
       "      <td>-7.623214</td>\n",
       "    </tr>\n",
       "    <tr>\n",
       "      <th>37</th>\n",
       "      <td>2019</td>\n",
       "      <td>-2.528700</td>\n",
       "      <td>-6.696835</td>\n",
       "    </tr>\n",
       "    <tr>\n",
       "      <th>991</th>\n",
       "      <td>united</td>\n",
       "      <td>-3.035138</td>\n",
       "      <td>-7.247203</td>\n",
       "    </tr>\n",
       "  </tbody>\n",
       "</table>\n",
       "</div>"
      ],
      "text/plain": [
       "            word  coef_log_tfidf  coef_nb_tfidf\n",
       "609         mutv       -1.500259      -7.623214\n",
       "971     transfer       -1.567676      -6.173412\n",
       "284   discussion       -1.607868      -5.737990\n",
       "608      muppets       -1.615134      -7.623214\n",
       "837       series       -1.624931      -7.623214\n",
       "250        daily       -1.628926      -7.623214\n",
       "5             06       -1.684850      -7.623214\n",
       "1025       watch       -1.864837      -7.623214\n",
       "37          2019       -2.528700      -6.696835\n",
       "991       united       -3.035138      -7.247203"
      ]
     },
     "execution_count": 87,
     "metadata": {},
     "output_type": "execute_result"
    }
   ],
   "source": [
    "#  Strongest 10 words in Logistic Regression for Reddevils subreddit\n",
    "tfidf_coef.sort_values('coef_log_tfidf', ascending=False).tail(10)"
   ]
  },
  {
   "cell_type": "code",
   "execution_count": 88,
   "metadata": {},
   "outputs": [
    {
     "data": {
      "text/html": [
       "<div>\n",
       "<style scoped>\n",
       "    .dataframe tbody tr th:only-of-type {\n",
       "        vertical-align: middle;\n",
       "    }\n",
       "\n",
       "    .dataframe tbody tr th {\n",
       "        vertical-align: top;\n",
       "    }\n",
       "\n",
       "    .dataframe thead th {\n",
       "        text-align: right;\n",
       "    }\n",
       "</style>\n",
       "<table border=\"1\" class=\"dataframe\">\n",
       "  <thead>\n",
       "    <tr style=\"text-align: right;\">\n",
       "      <th></th>\n",
       "      <th>word</th>\n",
       "      <th>coef_log_tfidf</th>\n",
       "      <th>coef_nb_tfidf</th>\n",
       "    </tr>\n",
       "  </thead>\n",
       "  <tbody>\n",
       "    <tr>\n",
       "      <th>208</th>\n",
       "      <td>city</td>\n",
       "      <td>3.847976</td>\n",
       "      <td>-4.560552</td>\n",
       "    </tr>\n",
       "    <tr>\n",
       "      <th>947</th>\n",
       "      <td>thread</td>\n",
       "      <td>0.222794</td>\n",
       "      <td>-4.937825</td>\n",
       "    </tr>\n",
       "    <tr>\n",
       "      <th>828</th>\n",
       "      <td>season</td>\n",
       "      <td>1.303008</td>\n",
       "      <td>-4.939709</td>\n",
       "    </tr>\n",
       "    <tr>\n",
       "      <th>480</th>\n",
       "      <td>kit</td>\n",
       "      <td>1.679581</td>\n",
       "      <td>-5.199653</td>\n",
       "    </tr>\n",
       "    <tr>\n",
       "      <th>942</th>\n",
       "      <td>think</td>\n",
       "      <td>1.103847</td>\n",
       "      <td>-5.220021</td>\n",
       "    </tr>\n",
       "    <tr>\n",
       "      <th>379</th>\n",
       "      <td>general</td>\n",
       "      <td>1.396766</td>\n",
       "      <td>-5.272919</td>\n",
       "    </tr>\n",
       "    <tr>\n",
       "      <th>791</th>\n",
       "      <td>rodri</td>\n",
       "      <td>1.777468</td>\n",
       "      <td>-5.290955</td>\n",
       "    </tr>\n",
       "    <tr>\n",
       "      <th>359</th>\n",
       "      <td>footy</td>\n",
       "      <td>1.339966</td>\n",
       "      <td>-5.306336</td>\n",
       "    </tr>\n",
       "    <tr>\n",
       "      <th>1037</th>\n",
       "      <td>weekly</td>\n",
       "      <td>1.339966</td>\n",
       "      <td>-5.306336</td>\n",
       "    </tr>\n",
       "    <tr>\n",
       "      <th>1017</th>\n",
       "      <td>vs</td>\n",
       "      <td>-0.143961</td>\n",
       "      <td>-5.473970</td>\n",
       "    </tr>\n",
       "  </tbody>\n",
       "</table>\n",
       "</div>"
      ],
      "text/plain": [
       "         word  coef_log_tfidf  coef_nb_tfidf\n",
       "208      city        3.847976      -4.560552\n",
       "947    thread        0.222794      -4.937825\n",
       "828    season        1.303008      -4.939709\n",
       "480       kit        1.679581      -5.199653\n",
       "942     think        1.103847      -5.220021\n",
       "379   general        1.396766      -5.272919\n",
       "791     rodri        1.777468      -5.290955\n",
       "359     footy        1.339966      -5.306336\n",
       "1037   weekly        1.339966      -5.306336\n",
       "1017       vs       -0.143961      -5.473970"
      ]
     },
     "execution_count": 88,
     "metadata": {},
     "output_type": "execute_result"
    }
   ],
   "source": [
    "#  Strongest 10 words in Naive Bayes for Reddevils subreddit\n",
    "tfidf_coef.sort_values('coef_nb_tfidf', ascending=False).head(10)"
   ]
  },
  {
   "cell_type": "code",
   "execution_count": 89,
   "metadata": {},
   "outputs": [
    {
     "data": {
      "text/html": [
       "<div>\n",
       "<style scoped>\n",
       "    .dataframe tbody tr th:only-of-type {\n",
       "        vertical-align: middle;\n",
       "    }\n",
       "\n",
       "    .dataframe tbody tr th {\n",
       "        vertical-align: top;\n",
       "    }\n",
       "\n",
       "    .dataframe thead th {\n",
       "        text-align: right;\n",
       "    }\n",
       "</style>\n",
       "<table border=\"1\" class=\"dataframe\">\n",
       "  <thead>\n",
       "    <tr style=\"text-align: right;\">\n",
       "      <th></th>\n",
       "      <th>word</th>\n",
       "      <th>coef_log_tfidf</th>\n",
       "      <th>coef_nb_tfidf</th>\n",
       "    </tr>\n",
       "  </thead>\n",
       "  <tbody>\n",
       "    <tr>\n",
       "      <th>229</th>\n",
       "      <td>complex</td>\n",
       "      <td>-0.214598</td>\n",
       "      <td>-7.623214</td>\n",
       "    </tr>\n",
       "    <tr>\n",
       "      <th>545</th>\n",
       "      <td>management</td>\n",
       "      <td>-0.498329</td>\n",
       "      <td>-7.623214</td>\n",
       "    </tr>\n",
       "    <tr>\n",
       "      <th>743</th>\n",
       "      <td>radio</td>\n",
       "      <td>-0.202304</td>\n",
       "      <td>-7.623214</td>\n",
       "    </tr>\n",
       "    <tr>\n",
       "      <th>742</th>\n",
       "      <td>radar</td>\n",
       "      <td>-0.072333</td>\n",
       "      <td>-7.623214</td>\n",
       "    </tr>\n",
       "    <tr>\n",
       "      <th>231</th>\n",
       "      <td>conference</td>\n",
       "      <td>-0.328149</td>\n",
       "      <td>-7.623214</td>\n",
       "    </tr>\n",
       "    <tr>\n",
       "      <th>740</th>\n",
       "      <td>quotes</td>\n",
       "      <td>-0.190837</td>\n",
       "      <td>-7.623214</td>\n",
       "    </tr>\n",
       "    <tr>\n",
       "      <th>546</th>\n",
       "      <td>manager</td>\n",
       "      <td>-0.300979</td>\n",
       "      <td>-7.623214</td>\n",
       "    </tr>\n",
       "    <tr>\n",
       "      <th>233</th>\n",
       "      <td>considered</td>\n",
       "      <td>-0.376862</td>\n",
       "      <td>-7.623214</td>\n",
       "    </tr>\n",
       "    <tr>\n",
       "      <th>737</th>\n",
       "      <td>quickly</td>\n",
       "      <td>-0.170142</td>\n",
       "      <td>-7.623214</td>\n",
       "    </tr>\n",
       "    <tr>\n",
       "      <th>0</th>\n",
       "      <td>01</td>\n",
       "      <td>-0.279044</td>\n",
       "      <td>-7.623214</td>\n",
       "    </tr>\n",
       "  </tbody>\n",
       "</table>\n",
       "</div>"
      ],
      "text/plain": [
       "           word  coef_log_tfidf  coef_nb_tfidf\n",
       "229     complex       -0.214598      -7.623214\n",
       "545  management       -0.498329      -7.623214\n",
       "743       radio       -0.202304      -7.623214\n",
       "742       radar       -0.072333      -7.623214\n",
       "231  conference       -0.328149      -7.623214\n",
       "740      quotes       -0.190837      -7.623214\n",
       "546     manager       -0.300979      -7.623214\n",
       "233  considered       -0.376862      -7.623214\n",
       "737     quickly       -0.170142      -7.623214\n",
       "0            01       -0.279044      -7.623214"
      ]
     },
     "execution_count": 89,
     "metadata": {},
     "output_type": "execute_result"
    }
   ],
   "source": [
    "#  Strongest 10 words in Naive Bayes for Reddevils subreddit\n",
    "tfidf_coef.sort_values('coef_nb_tfidf', ascending=False).tail(10)"
   ]
  },
  {
   "cell_type": "markdown",
   "metadata": {},
   "source": [
    "Once again, similar to the Naive Bayes model when it was run using Count Vectorizer, the words that strongly correlate with the Reddevils subreddit does not make sense to me as I do not consider them to be words that would resonate with the team in question. \n",
    "\n",
    "The strongest model that predicted the subreddit posts the best was the Logistic Regression with CountVectorizer model. I will illustrate the effect of this model with a ROC-AUC curve diagram."
   ]
  },
  {
   "cell_type": "code",
   "execution_count": 90,
   "metadata": {},
   "outputs": [],
   "source": [
    "logreg_cv_probs = pd.DataFrame(logreg.predict_proba(test_features), columns=['zero','one'])"
   ]
  },
  {
   "cell_type": "code",
   "execution_count": 91,
   "metadata": {},
   "outputs": [],
   "source": [
    "fpr, tpr, thresholds = roc_curve(y_test, logreg_cv_probs['one'])"
   ]
  },
  {
   "cell_type": "code",
   "execution_count": 92,
   "metadata": {},
   "outputs": [
    {
     "data": {
      "image/png": "[encoded data removed]",
      "text/plain": [
       "<Figure size 792x684 with 1 Axes>"
      ]
     },
     "metadata": {
      "needs_background": "light"
     },
     "output_type": "display_data"
    }
   ],
   "source": [
    "plt.figure(figsize=(11,9.5))\n",
    "lw = 2\n",
    "plt.plot(fpr, tpr, color='navy',\n",
    "         lw=lw, label='ROC curve')\n",
    "plt.plot([0, 1], [0, 1], color='green', lw=lw, linestyle='--')\n",
    "plt.xlim([0.0, 1.0])\n",
    "plt.ylim([0.0, 1.0])\n",
    "plt.xlabel('1 - Specificity')\n",
    "plt.ylabel('Sensitivity')\n",
    "plt.title('ROC')\n",
    "plt.legend(loc=\"lower right\")\n",
    "plt.show()"
   ]
  },
  {
   "cell_type": "markdown",
   "metadata": {},
   "source": [
    "This ROC-AUC model merely confirms what was demonstrated via the confusion matrix. The accuracy of this model for the subreddits was very strong. It is almost at a complete right angle to the top left hand section of the graph. "
   ]
  },
  {
   "cell_type": "markdown",
   "metadata": {},
   "source": [
    "***Future Analysis***"
   ]
  },
  {
   "cell_type": "markdown",
   "metadata": {},
   "source": [
    "I would like to change the max features in the Count Vectorizer to see whether I could have generated a higher test score. \n",
    "\n",
    "Additionally, I would like to try other models such as Random Forest to see whether other models would have been a better fit, granted there is not too much more I could realistically do to fit it better. \n",
    "\n",
    "Furthermore, it would have been interesting to see how accurate the model would have been had names associated with the clubs in question were included in the stop words. "
   ]
  },
  {
   "cell_type": "code",
   "execution_count": null,
   "metadata": {},
   "outputs": [],
   "source": []
  }
 ],
 "metadata": {
  "kernelspec": {
   "display_name": "Python 3",
   "language": "python",
   "name": "python3"
  },
  "language_info": {
   "codemirror_mode": {
    "name": "ipython",
    "version": 3
   },
   "file_extension": ".py",
   "mimetype": "text/x-python",
   "name": "python",
   "nbconvert_exporter": "python",
   "pygments_lexer": "ipython3",
   "version": "3.7.3"
  }
 },
 "nbformat": 4,
 "nbformat_minor": 2
}
